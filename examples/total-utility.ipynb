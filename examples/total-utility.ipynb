{
 "cells": [
  {
   "cell_type": "code",
   "execution_count": 1,
   "metadata": {},
   "outputs": [],
   "source": [
    "import os\n",
    "from pandas import read_csv, read_excel, DataFrame\n",
    "import sae\n",
    "import gurobipy as gp\n",
    "from gurobipy import GRB\n",
    "from gurobipy import quicksum as qsum\n",
    "import numpy as np\n",
    "\n",
    "import sys\n",
    "sys.path.append('../')\n",
    "import saedfsc"
   ]
  },
  {
   "cell_type": "markdown",
   "metadata": {},
   "source": [
    "Price of the car."
   ]
  },
  {
   "cell_type": "code",
   "execution_count": 2,
   "metadata": {},
   "outputs": [],
   "source": [
    "productPrice = 20000\n",
    "maxProductPrice = 25000\n",
    "pricePerf = (maxProductPrice - productPrice) / maxProductPrice # Normalized price (0 is best, 1 is worst)"
   ]
  },
  {
   "cell_type": "markdown",
   "metadata": {},
   "source": [
    "Information about customers"
   ]
  },
  {
   "cell_type": "code",
   "execution_count": 3,
   "metadata": {},
   "outputs": [],
   "source": [
    "customers = saedfsc.customers['Name'].to_list()\n",
    "cQty = dict(zip(saedfsc.customers['Name'], saedfsc.customers['Quantity'])) # customer quantities\n",
    "cPriceFocus = dict(zip(saedfsc.customers['Name'], saedfsc.customers['PriceFocus']))\n",
    "name_weights_dict = saedfsc.customers.set_index('Name')['PerformanceUtilityWeights'].to_dict()\n",
    "cWts = {c : np.fromstring(name_weights_dict[c].strip('[]'), sep=',') for c in name_weights_dict}"
   ]
  },
  {
   "cell_type": "markdown",
   "metadata": {},
   "source": [
    "Create a COTSCar object and compute the customer utility (including the price) for each customer."
   ]
  },
  {
   "cell_type": "code",
   "execution_count": 4,
   "metadata": {},
   "outputs": [
    {
     "name": "stdout",
     "output_type": "stream",
     "text": [
      "CustomerType1 -1.007459178517684\n",
      "CustomerType2 -0.5409159825276445\n",
      "CustomerType3 -0.8883493845430993\n",
      "CustomerType4 -1.5251802482285846\n",
      "CustomerType5 -2.854941810561102\n",
      "CustomerType6 -0.8642514871256998\n",
      "CustomerType7 -1.3060477143665037\n",
      "CustomerType8 -2.355403191057519\n",
      "CustomerType9 -1.3129701255526154\n",
      "CustomerType10 -1.714544814032254\n",
      "CustomerType11 -0.8753126982231\n",
      "CustomerType12 -0.9365526444830277\n",
      "CustomerType13 -1.0784913301397017\n",
      "CustomerType14 -1.3251474985297254\n",
      "CustomerType15 -1.372496306856454\n",
      "CustomerType16 -1.1572308383265293\n",
      "CustomerType17 -1.739352336911671\n",
      "CustomerType18 -0.5821210948219251\n",
      "CustomerType19 -0.25422673694817804\n",
      "CustomerType20 -2.0677205142101873\n",
      "CustomerType21 -0.8478223232206475\n",
      "CustomerType22 -0.910213224816535\n",
      "CustomerType23 -0.2849703150661053\n",
      "CustomerType24 -0.5098465660030196\n",
      "CustomerType25 -0.23596166362688784\n"
     ]
    }
   ],
   "source": [
    "carDesignVec = [12, 7, 6, 12, 9, 1, 0, 13, 9, 1, 39, 26, 2, 1, 33, 11, 4]\n",
    "car = sae.COTSCar()\n",
    "car.vector = carDesignVec\n",
    "for c in customers:\n",
    "    perf_utility = car.partworth_objectives(weights=cWts[c])[0]\n",
    "    total_utility = (1-cPriceFocus[c])*perf_utility - cPriceFocus[c]*pricePerf\n",
    "    print(c, total_utility)"
   ]
  },
  {
   "cell_type": "code",
   "execution_count": null,
   "metadata": {},
   "outputs": [],
   "source": []
  }
 ],
 "metadata": {
  "kernelspec": {
   "display_name": "sae-dsc",
   "language": "python",
   "name": "python3"
  },
  "language_info": {
   "codemirror_mode": {
    "name": "ipython",
    "version": 3
   },
   "file_extension": ".py",
   "mimetype": "text/x-python",
   "name": "python",
   "nbconvert_exporter": "python",
   "pygments_lexer": "ipython3",
   "version": "3.9.1"
  }
 },
 "nbformat": 4,
 "nbformat_minor": 2
}
