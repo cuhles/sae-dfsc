{
 "cells": [
  {
   "cell_type": "code",
   "execution_count": 33,
   "metadata": {},
   "outputs": [],
   "source": [
    "import os\n",
    "from pandas import read_csv, read_excel, DataFrame\n",
    "import sae\n",
    "import gurobipy as gp\n",
    "from gurobipy import GRB\n",
    "from gurobipy import quicksum as qsum\n",
    "import numpy as np\n",
    "\n",
    "import sys\n",
    "sys.path.append('../')\n",
    "import saedfsc"
   ]
  },
  {
   "cell_type": "markdown",
   "metadata": {},
   "source": [
    "Price of the car."
   ]
  },
  {
   "cell_type": "code",
   "execution_count": 39,
   "metadata": {},
   "outputs": [],
   "source": [
    "productPrice = 20000\n",
    "maxProductPrice = 25000\n",
    "pricePerf = (maxProductPrice - productPrice) / maxProductPrice # Normalized price (0 is best, 1 is worst)"
   ]
  },
  {
   "cell_type": "markdown",
   "metadata": {},
   "source": [
    "Information about customers"
   ]
  },
  {
   "cell_type": "code",
   "execution_count": 40,
   "metadata": {},
   "outputs": [],
   "source": [
    "customers = saedfsc.customers['Name'].to_list()\n",
    "cQty = dict(zip(saedfsc.customers['Name'], saedfsc.customers['Quantity'])) # customer quantities\n",
    "cPriceFocus = dict(zip(saedfsc.customers['Name'], saedfsc.customers['PriceFocus']))\n",
    "name_weights_dict = saedfsc.customers.set_index('Name')['PerformanceUtilityWeights'].to_dict()\n",
    "cWts = {c : np.fromstring(name_weights_dict[c].strip('[]'), sep=',') for c in name_weights_dict}"
   ]
  },
  {
   "cell_type": "markdown",
   "metadata": {},
   "source": [
    "Create a COTSCar object and compute the customer utility (including the price) for each customer."
   ]
  },
  {
   "cell_type": "code",
   "execution_count": 53,
   "metadata": {},
   "outputs": [
    {
     "name": "stdout",
     "output_type": "stream",
     "text": [
      "CustomerType1 -0.7394093792153885\n",
      "CustomerType2 -0.6533873162906297\n",
      "CustomerType3 -0.8477211796557491\n",
      "CustomerType4 -1.9210719585455573\n",
      "CustomerType5 -1.665733246445088\n",
      "CustomerType6 -0.4038530419231472\n",
      "CustomerType7 -0.8608268241401282\n",
      "CustomerType8 -1.1338668335802111\n",
      "CustomerType9 -1.959438963581867\n",
      "CustomerType10 -1.3769007126110848\n",
      "CustomerType11 -0.40083411546904646\n",
      "CustomerType12 -0.5324095760798941\n",
      "CustomerType13 -1.1107635882588076\n",
      "CustomerType14 -0.5049924677521397\n",
      "CustomerType15 -0.7218970615056064\n",
      "CustomerType16 -0.927649630968105\n",
      "CustomerType17 -1.1571448864243878\n",
      "CustomerType18 -0.8790330305616731\n",
      "CustomerType19 -0.2697964815342995\n",
      "CustomerType20 -1.414577745443255\n",
      "CustomerType21 -1.066501413357933\n",
      "CustomerType22 -0.9958148503748128\n",
      "CustomerType23 -0.22654188293146127\n",
      "CustomerType24 -0.37567515363943127\n",
      "CustomerType25 -0.21617914089999674\n"
     ]
    }
   ],
   "source": [
    "carDesignVec = [12, 7, 6, 12, 9, 1, 0, 13, 9, 1, 39, 26, 2, 1, 33, 11, 4]\n",
    "car = sae.COTSCar()\n",
    "car.vector = carDesignVec\n",
    "for c in customers:\n",
    "    perf_utility = car.partworth_objectives(weights=cWts[c])[0]\n",
    "    total_utility = (1-cPriceFocus[c])*perf_utility - cPriceFocus[c]*pricePerf\n",
    "    print(c, total_utility)"
   ]
  },
  {
   "cell_type": "code",
   "execution_count": null,
   "metadata": {},
   "outputs": [],
   "source": []
  }
 ],
 "metadata": {
  "kernelspec": {
   "display_name": "sae-dsc",
   "language": "python",
   "name": "python3"
  },
  "language_info": {
   "codemirror_mode": {
    "name": "ipython",
    "version": 3
   },
   "file_extension": ".py",
   "mimetype": "text/x-python",
   "name": "python",
   "nbconvert_exporter": "python",
   "pygments_lexer": "ipython3",
   "version": "3.9.1"
  }
 },
 "nbformat": 4,
 "nbformat_minor": 2
}
