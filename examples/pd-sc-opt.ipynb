{
 "cells": [
  {
   "cell_type": "code",
   "execution_count": 58,
   "metadata": {},
   "outputs": [],
   "source": [
    "import os\n",
    "from pandas import read_csv, read_excel, DataFrame\n",
    "import sae\n",
    "import gurobipy as gp\n",
    "from gurobipy import GRB\n",
    "from gurobipy import quicksum as qsum\n",
    "\n",
    "import sys\n",
    "sys.path.append('../')\n",
    "import saedfsc"
   ]
  },
  {
   "cell_type": "markdown",
   "metadata": {},
   "source": [
    "Here is a notional list of suppliers."
   ]
  },
  {
   "cell_type": "code",
   "execution_count": 59,
   "metadata": {},
   "outputs": [
    {
     "data": {
      "text/html": [
       "<div>\n",
       "<style scoped>\n",
       "    .dataframe tbody tr th:only-of-type {\n",
       "        vertical-align: middle;\n",
       "    }\n",
       "\n",
       "    .dataframe tbody tr th {\n",
       "        vertical-align: top;\n",
       "    }\n",
       "\n",
       "    .dataframe thead th {\n",
       "        text-align: right;\n",
       "    }\n",
       "</style>\n",
       "<table border=\"1\" class=\"dataframe\">\n",
       "  <thead>\n",
       "    <tr style=\"text-align: right;\">\n",
       "      <th></th>\n",
       "      <th>Name</th>\n",
       "      <th>Location</th>\n",
       "      <th>Rating</th>\n",
       "      <th>SetUpCost</th>\n",
       "    </tr>\n",
       "  </thead>\n",
       "  <tbody>\n",
       "    <tr>\n",
       "      <th>0</th>\n",
       "      <td>Supplier1</td>\n",
       "      <td>Location1</td>\n",
       "      <td>1.178742</td>\n",
       "      <td>4303</td>\n",
       "    </tr>\n",
       "    <tr>\n",
       "      <th>1</th>\n",
       "      <td>Supplier2</td>\n",
       "      <td>Location2</td>\n",
       "      <td>2.930649</td>\n",
       "      <td>2174</td>\n",
       "    </tr>\n",
       "    <tr>\n",
       "      <th>2</th>\n",
       "      <td>Supplier3</td>\n",
       "      <td>Location1</td>\n",
       "      <td>4.821298</td>\n",
       "      <td>2699</td>\n",
       "    </tr>\n",
       "    <tr>\n",
       "      <th>3</th>\n",
       "      <td>Supplier4</td>\n",
       "      <td>Location4</td>\n",
       "      <td>2.837146</td>\n",
       "      <td>2724</td>\n",
       "    </tr>\n",
       "    <tr>\n",
       "      <th>4</th>\n",
       "      <td>Supplier5</td>\n",
       "      <td>Location2</td>\n",
       "      <td>3.659921</td>\n",
       "      <td>4715</td>\n",
       "    </tr>\n",
       "    <tr>\n",
       "      <th>5</th>\n",
       "      <td>Supplier6</td>\n",
       "      <td>Location2</td>\n",
       "      <td>1.560158</td>\n",
       "      <td>2056</td>\n",
       "    </tr>\n",
       "    <tr>\n",
       "      <th>6</th>\n",
       "      <td>Supplier7</td>\n",
       "      <td>Location3</td>\n",
       "      <td>1.165378</td>\n",
       "      <td>3938</td>\n",
       "    </tr>\n",
       "  </tbody>\n",
       "</table>\n",
       "</div>"
      ],
      "text/plain": [
       "        Name   Location    Rating  SetUpCost\n",
       "0  Supplier1  Location1  1.178742       4303\n",
       "1  Supplier2  Location2  2.930649       2174\n",
       "2  Supplier3  Location1  4.821298       2699\n",
       "3  Supplier4  Location4  2.837146       2724\n",
       "4  Supplier5  Location2  3.659921       4715\n",
       "5  Supplier6  Location2  1.560158       2056\n",
       "6  Supplier7  Location3  1.165378       3938"
      ]
     },
     "execution_count": 59,
     "metadata": {},
     "output_type": "execute_result"
    }
   ],
   "source": [
    "saedfsc.suppliers"
   ]
  },
  {
   "cell_type": "markdown",
   "metadata": {},
   "source": [
    "Customer information"
   ]
  },
  {
   "cell_type": "code",
   "execution_count": 60,
   "metadata": {},
   "outputs": [
    {
     "data": {
      "text/html": [
       "<div>\n",
       "<style scoped>\n",
       "    .dataframe tbody tr th:only-of-type {\n",
       "        vertical-align: middle;\n",
       "    }\n",
       "\n",
       "    .dataframe tbody tr th {\n",
       "        vertical-align: top;\n",
       "    }\n",
       "\n",
       "    .dataframe thead th {\n",
       "        text-align: right;\n",
       "    }\n",
       "</style>\n",
       "<table border=\"1\" class=\"dataframe\">\n",
       "  <thead>\n",
       "    <tr style=\"text-align: right;\">\n",
       "      <th></th>\n",
       "      <th>Name</th>\n",
       "      <th>Quantity</th>\n",
       "      <th>Weights</th>\n",
       "    </tr>\n",
       "  </thead>\n",
       "  <tbody>\n",
       "    <tr>\n",
       "      <th>0</th>\n",
       "      <td>CustomerType1</td>\n",
       "      <td>788</td>\n",
       "      <td>[0.73513367 0.48459612 0.93248932 0.59499169 0...</td>\n",
       "    </tr>\n",
       "    <tr>\n",
       "      <th>1</th>\n",
       "      <td>CustomerType2</td>\n",
       "      <td>923</td>\n",
       "      <td>[0.79095639 0.61455046 0.21374483 0.33835256 0...</td>\n",
       "    </tr>\n",
       "    <tr>\n",
       "      <th>2</th>\n",
       "      <td>CustomerType3</td>\n",
       "      <td>348</td>\n",
       "      <td>[0.66531545 0.17610433 0.35049571 0.43508069 0...</td>\n",
       "    </tr>\n",
       "    <tr>\n",
       "      <th>3</th>\n",
       "      <td>CustomerType4</td>\n",
       "      <td>295</td>\n",
       "      <td>[0.96645753 0.91481653 0.41863489 0.34691307 0...</td>\n",
       "    </tr>\n",
       "    <tr>\n",
       "      <th>4</th>\n",
       "      <td>CustomerType5</td>\n",
       "      <td>586</td>\n",
       "      <td>[0.06048678 0.84413304 0.82686708 0.50329165 0...</td>\n",
       "    </tr>\n",
       "    <tr>\n",
       "      <th>5</th>\n",
       "      <td>CustomerType6</td>\n",
       "      <td>521</td>\n",
       "      <td>[0.61118633 0.7557146  0.89788589 0.04592996 0...</td>\n",
       "    </tr>\n",
       "    <tr>\n",
       "      <th>6</th>\n",
       "      <td>CustomerType7</td>\n",
       "      <td>142</td>\n",
       "      <td>[0.90023275 0.01412841 0.65388829 0.09778422 0...</td>\n",
       "    </tr>\n",
       "    <tr>\n",
       "      <th>7</th>\n",
       "      <td>CustomerType8</td>\n",
       "      <td>313</td>\n",
       "      <td>[0.66579382 0.81465474 0.40342229 0.91312282 0...</td>\n",
       "    </tr>\n",
       "    <tr>\n",
       "      <th>8</th>\n",
       "      <td>CustomerType9</td>\n",
       "      <td>946</td>\n",
       "      <td>[0.07086346 0.00679177 0.92121686 0.96926981 0...</td>\n",
       "    </tr>\n",
       "    <tr>\n",
       "      <th>9</th>\n",
       "      <td>CustomerType10</td>\n",
       "      <td>240</td>\n",
       "      <td>[0.64659722 0.0702475  0.28557804 0.40394666 0...</td>\n",
       "    </tr>\n",
       "    <tr>\n",
       "      <th>10</th>\n",
       "      <td>CustomerType11</td>\n",
       "      <td>452</td>\n",
       "      <td>[0.29135743 0.55401331 0.25233875 0.78894423 0...</td>\n",
       "    </tr>\n",
       "    <tr>\n",
       "      <th>11</th>\n",
       "      <td>CustomerType12</td>\n",
       "      <td>845</td>\n",
       "      <td>[0.58309699 0.92765422 0.66322512 0.34026457 0...</td>\n",
       "    </tr>\n",
       "    <tr>\n",
       "      <th>12</th>\n",
       "      <td>CustomerType13</td>\n",
       "      <td>685</td>\n",
       "      <td>[0.26356676 0.96457425 0.75315859 0.90942495 0...</td>\n",
       "    </tr>\n",
       "    <tr>\n",
       "      <th>13</th>\n",
       "      <td>CustomerType14</td>\n",
       "      <td>899</td>\n",
       "      <td>[0.97711078 0.4427735  0.76415841 0.21805422 0...</td>\n",
       "    </tr>\n",
       "    <tr>\n",
       "      <th>14</th>\n",
       "      <td>CustomerType15</td>\n",
       "      <td>657</td>\n",
       "      <td>[0.5406377  0.78523601 0.40612435 0.81554159 0...</td>\n",
       "    </tr>\n",
       "    <tr>\n",
       "      <th>15</th>\n",
       "      <td>CustomerType16</td>\n",
       "      <td>540</td>\n",
       "      <td>[0.64360324 0.7397408  0.26285522 0.00499688 0...</td>\n",
       "    </tr>\n",
       "    <tr>\n",
       "      <th>16</th>\n",
       "      <td>CustomerType17</td>\n",
       "      <td>356</td>\n",
       "      <td>[0.42353578 0.71381582 0.11829245 0.70310531 0...</td>\n",
       "    </tr>\n",
       "    <tr>\n",
       "      <th>17</th>\n",
       "      <td>CustomerType18</td>\n",
       "      <td>172</td>\n",
       "      <td>[0.80912194 0.5173595  0.63730534 0.62167863 0...</td>\n",
       "    </tr>\n",
       "    <tr>\n",
       "      <th>18</th>\n",
       "      <td>CustomerType19</td>\n",
       "      <td>496</td>\n",
       "      <td>[0.84375984 0.92524255 0.63847622 0.43702926 0...</td>\n",
       "    </tr>\n",
       "    <tr>\n",
       "      <th>19</th>\n",
       "      <td>CustomerType20</td>\n",
       "      <td>327</td>\n",
       "      <td>[0.86133488 0.91692432 0.40626719 0.77410905 0...</td>\n",
       "    </tr>\n",
       "    <tr>\n",
       "      <th>20</th>\n",
       "      <td>CustomerType21</td>\n",
       "      <td>27</td>\n",
       "      <td>[0.80631717 0.88659478 0.97086906 0.0605809  0...</td>\n",
       "    </tr>\n",
       "    <tr>\n",
       "      <th>21</th>\n",
       "      <td>CustomerType22</td>\n",
       "      <td>168</td>\n",
       "      <td>[0.05174514 0.99387025 0.01984235 0.89444411 0...</td>\n",
       "    </tr>\n",
       "    <tr>\n",
       "      <th>22</th>\n",
       "      <td>CustomerType23</td>\n",
       "      <td>948</td>\n",
       "      <td>[0.04010158 0.9276368  0.00995372 0.20974839 0...</td>\n",
       "    </tr>\n",
       "    <tr>\n",
       "      <th>23</th>\n",
       "      <td>CustomerType24</td>\n",
       "      <td>820</td>\n",
       "      <td>[0.08556732 0.7266827  0.49287559 0.52705585 0...</td>\n",
       "    </tr>\n",
       "    <tr>\n",
       "      <th>24</th>\n",
       "      <td>CustomerType25</td>\n",
       "      <td>147</td>\n",
       "      <td>[0.11390737 0.9143587  0.72640065 0.68809759 0...</td>\n",
       "    </tr>\n",
       "  </tbody>\n",
       "</table>\n",
       "</div>"
      ],
      "text/plain": [
       "              Name  Quantity  \\\n",
       "0    CustomerType1       788   \n",
       "1    CustomerType2       923   \n",
       "2    CustomerType3       348   \n",
       "3    CustomerType4       295   \n",
       "4    CustomerType5       586   \n",
       "5    CustomerType6       521   \n",
       "6    CustomerType7       142   \n",
       "7    CustomerType8       313   \n",
       "8    CustomerType9       946   \n",
       "9   CustomerType10       240   \n",
       "10  CustomerType11       452   \n",
       "11  CustomerType12       845   \n",
       "12  CustomerType13       685   \n",
       "13  CustomerType14       899   \n",
       "14  CustomerType15       657   \n",
       "15  CustomerType16       540   \n",
       "16  CustomerType17       356   \n",
       "17  CustomerType18       172   \n",
       "18  CustomerType19       496   \n",
       "19  CustomerType20       327   \n",
       "20  CustomerType21        27   \n",
       "21  CustomerType22       168   \n",
       "22  CustomerType23       948   \n",
       "23  CustomerType24       820   \n",
       "24  CustomerType25       147   \n",
       "\n",
       "                                              Weights  \n",
       "0   [0.73513367 0.48459612 0.93248932 0.59499169 0...  \n",
       "1   [0.79095639 0.61455046 0.21374483 0.33835256 0...  \n",
       "2   [0.66531545 0.17610433 0.35049571 0.43508069 0...  \n",
       "3   [0.96645753 0.91481653 0.41863489 0.34691307 0...  \n",
       "4   [0.06048678 0.84413304 0.82686708 0.50329165 0...  \n",
       "5   [0.61118633 0.7557146  0.89788589 0.04592996 0...  \n",
       "6   [0.90023275 0.01412841 0.65388829 0.09778422 0...  \n",
       "7   [0.66579382 0.81465474 0.40342229 0.91312282 0...  \n",
       "8   [0.07086346 0.00679177 0.92121686 0.96926981 0...  \n",
       "9   [0.64659722 0.0702475  0.28557804 0.40394666 0...  \n",
       "10  [0.29135743 0.55401331 0.25233875 0.78894423 0...  \n",
       "11  [0.58309699 0.92765422 0.66322512 0.34026457 0...  \n",
       "12  [0.26356676 0.96457425 0.75315859 0.90942495 0...  \n",
       "13  [0.97711078 0.4427735  0.76415841 0.21805422 0...  \n",
       "14  [0.5406377  0.78523601 0.40612435 0.81554159 0...  \n",
       "15  [0.64360324 0.7397408  0.26285522 0.00499688 0...  \n",
       "16  [0.42353578 0.71381582 0.11829245 0.70310531 0...  \n",
       "17  [0.80912194 0.5173595  0.63730534 0.62167863 0...  \n",
       "18  [0.84375984 0.92524255 0.63847622 0.43702926 0...  \n",
       "19  [0.86133488 0.91692432 0.40626719 0.77410905 0...  \n",
       "20  [0.80631717 0.88659478 0.97086906 0.0605809  0...  \n",
       "21  [0.05174514 0.99387025 0.01984235 0.89444411 0...  \n",
       "22  [0.04010158 0.9276368  0.00995372 0.20974839 0...  \n",
       "23  [0.08556732 0.7266827  0.49287559 0.52705585 0...  \n",
       "24  [0.11390737 0.9143587  0.72640065 0.68809759 0...  "
      ]
     },
     "execution_count": 60,
     "metadata": {},
     "output_type": "execute_result"
    }
   ],
   "source": [
    "saedfsc.customers"
   ]
  },
  {
   "cell_type": "markdown",
   "metadata": {},
   "source": [
    "Quantity discount information"
   ]
  },
  {
   "cell_type": "code",
   "execution_count": 61,
   "metadata": {},
   "outputs": [
    {
     "data": {
      "text/html": [
       "<div>\n",
       "<style scoped>\n",
       "    .dataframe tbody tr th:only-of-type {\n",
       "        vertical-align: middle;\n",
       "    }\n",
       "\n",
       "    .dataframe tbody tr th {\n",
       "        vertical-align: top;\n",
       "    }\n",
       "\n",
       "    .dataframe thead th {\n",
       "        text-align: right;\n",
       "    }\n",
       "</style>\n",
       "<table border=\"1\" class=\"dataframe\">\n",
       "  <thead>\n",
       "    <tr style=\"text-align: right;\">\n",
       "      <th></th>\n",
       "      <th>Supplier</th>\n",
       "      <th>Part</th>\n",
       "      <th>PriceLevel</th>\n",
       "      <th>MinQty</th>\n",
       "      <th>Discount</th>\n",
       "    </tr>\n",
       "  </thead>\n",
       "  <tbody>\n",
       "    <tr>\n",
       "      <th>0</th>\n",
       "      <td>Supplier1</td>\n",
       "      <td>1</td>\n",
       "      <td>1</td>\n",
       "      <td>5</td>\n",
       "      <td>0.20</td>\n",
       "    </tr>\n",
       "    <tr>\n",
       "      <th>1</th>\n",
       "      <td>Supplier1</td>\n",
       "      <td>1</td>\n",
       "      <td>2</td>\n",
       "      <td>10</td>\n",
       "      <td>0.30</td>\n",
       "    </tr>\n",
       "    <tr>\n",
       "      <th>2</th>\n",
       "      <td>Supplier1</td>\n",
       "      <td>1</td>\n",
       "      <td>3</td>\n",
       "      <td>15</td>\n",
       "      <td>0.40</td>\n",
       "    </tr>\n",
       "    <tr>\n",
       "      <th>3</th>\n",
       "      <td>Supplier1</td>\n",
       "      <td>2</td>\n",
       "      <td>1</td>\n",
       "      <td>20</td>\n",
       "      <td>0.25</td>\n",
       "    </tr>\n",
       "    <tr>\n",
       "      <th>4</th>\n",
       "      <td>Supplier1</td>\n",
       "      <td>2</td>\n",
       "      <td>2</td>\n",
       "      <td>30</td>\n",
       "      <td>0.35</td>\n",
       "    </tr>\n",
       "    <tr>\n",
       "      <th>5</th>\n",
       "      <td>Supplier1</td>\n",
       "      <td>2</td>\n",
       "      <td>3</td>\n",
       "      <td>40</td>\n",
       "      <td>0.45</td>\n",
       "    </tr>\n",
       "    <tr>\n",
       "      <th>6</th>\n",
       "      <td>Supplier2</td>\n",
       "      <td>1</td>\n",
       "      <td>1</td>\n",
       "      <td>25</td>\n",
       "      <td>0.25</td>\n",
       "    </tr>\n",
       "    <tr>\n",
       "      <th>7</th>\n",
       "      <td>Supplier2</td>\n",
       "      <td>1</td>\n",
       "      <td>2</td>\n",
       "      <td>35</td>\n",
       "      <td>0.35</td>\n",
       "    </tr>\n",
       "    <tr>\n",
       "      <th>8</th>\n",
       "      <td>Supplier2</td>\n",
       "      <td>1</td>\n",
       "      <td>3</td>\n",
       "      <td>45</td>\n",
       "      <td>0.45</td>\n",
       "    </tr>\n",
       "    <tr>\n",
       "      <th>9</th>\n",
       "      <td>Supplier2</td>\n",
       "      <td>3</td>\n",
       "      <td>1</td>\n",
       "      <td>25</td>\n",
       "      <td>0.30</td>\n",
       "    </tr>\n",
       "    <tr>\n",
       "      <th>10</th>\n",
       "      <td>Supplier2</td>\n",
       "      <td>3</td>\n",
       "      <td>2</td>\n",
       "      <td>35</td>\n",
       "      <td>0.40</td>\n",
       "    </tr>\n",
       "    <tr>\n",
       "      <th>11</th>\n",
       "      <td>Supplier2</td>\n",
       "      <td>3</td>\n",
       "      <td>3</td>\n",
       "      <td>45</td>\n",
       "      <td>0.50</td>\n",
       "    </tr>\n",
       "  </tbody>\n",
       "</table>\n",
       "</div>"
      ],
      "text/plain": [
       "     Supplier  Part  PriceLevel  MinQty  Discount\n",
       "0   Supplier1     1           1       5      0.20\n",
       "1   Supplier1     1           2      10      0.30\n",
       "2   Supplier1     1           3      15      0.40\n",
       "3   Supplier1     2           1      20      0.25\n",
       "4   Supplier1     2           2      30      0.35\n",
       "5   Supplier1     2           3      40      0.45\n",
       "6   Supplier2     1           1      25      0.25\n",
       "7   Supplier2     1           2      35      0.35\n",
       "8   Supplier2     1           3      45      0.45\n",
       "9   Supplier2     3           1      25      0.30\n",
       "10  Supplier2     3           2      35      0.40\n",
       "11  Supplier2     3           3      45      0.50"
      ]
     },
     "execution_count": 61,
     "metadata": {},
     "output_type": "execute_result"
    }
   ],
   "source": [
    "saedfsc.qtyDiscountSchedule"
   ]
  },
  {
   "cell_type": "code",
   "execution_count": 62,
   "metadata": {},
   "outputs": [],
   "source": [
    "partOptions = saedfsc.getPartOptionsWithSuppliers()"
   ]
  },
  {
   "cell_type": "markdown",
   "metadata": {},
   "source": [
    "Chad: I put in numbers for placeholders. Please put the actual numbers in."
   ]
  },
  {
   "cell_type": "code",
   "execution_count": 63,
   "metadata": {},
   "outputs": [],
   "source": [
    "nominalPartPrices = {1 : 100, 2: 300, 3 : 400}"
   ]
  },
  {
   "cell_type": "markdown",
   "metadata": {},
   "source": [
    "Parameters"
   ]
  },
  {
   "cell_type": "code",
   "execution_count": 64,
   "metadata": {},
   "outputs": [],
   "source": [
    "productPrice = 20000"
   ]
  },
  {
   "cell_type": "markdown",
   "metadata": {},
   "source": [
    "Data structures"
   ]
  },
  {
   "cell_type": "code",
   "execution_count": 65,
   "metadata": {},
   "outputs": [],
   "source": [
    "suppliers = saedfsc.suppliers['Name'].to_list()\n",
    "supplierSetUpCost = dict(zip(saedfsc.suppliers['Name'], saedfsc.suppliers['SetUpCost']))\n",
    "customers = saedfsc.customers['Name'].to_list()\n",
    "cQty = dict(zip(saedfsc.customers['Name'], saedfsc.customers['Quantity'])) # customer quantities\n",
    "\n",
    "unique_pairs_df = saedfsc.qtyDiscountSchedule[['Supplier', 'Part']].drop_duplicates()\n",
    "suppliersPartPairs = list(unique_pairs_df.itertuples(index=False, name=None))"
   ]
  },
  {
   "cell_type": "markdown",
   "metadata": {},
   "source": [
    "Chad: fill this in"
   ]
  },
  {
   "cell_type": "code",
   "execution_count": 66,
   "metadata": {},
   "outputs": [],
   "source": [
    "objectives = ['mass', 'accel'] # fill this in with the objectives you want to optimize"
   ]
  },
  {
   "cell_type": "markdown",
   "metadata": {},
   "source": [
    "Pricing schedule\n",
    "(this code is still in progress)"
   ]
  },
  {
   "cell_type": "code",
   "execution_count": 67,
   "metadata": {},
   "outputs": [],
   "source": [
    "priceLevels = {}\n",
    "minQtys = {}\n",
    "prices = {}\n",
    "for s,p in suppliersPartPairs:\n",
    "    filtered_df = saedfsc.qtyDiscountSchedule[(saedfsc.qtyDiscountSchedule['Supplier'] == s) & (saedfsc.qtyDiscountSchedule['Part'] == p)]\n",
    "    priceLevels[s,p] = filtered_df['PriceLevel'].tolist()\n",
    "    minQtys[s,p] = filtered_df.set_index('PriceLevel')['MinQty'].to_dict()\n",
    "\n",
    "discounts = saedfsc.qtyDiscountSchedule.set_index(['Supplier','Part','PriceLevel'])['Discount'].to_dict()\n",
    "\n",
    "maxQty = {}\n",
    "for s,p in suppliersPartPairs:\n",
    "    maxQty[s,p] = 1000\n",
    "\n",
    "suppliersPartsAndLevels = []\n",
    "for s,p in suppliersPartPairs:\n",
    "    for l in priceLevels[s,p]:\n",
    "        suppliersPartsAndLevels.append((s,p, l))"
   ]
  },
  {
   "cell_type": "markdown",
   "metadata": {},
   "source": [
    "Create model container."
   ]
  },
  {
   "cell_type": "code",
   "execution_count": 68,
   "metadata": {},
   "outputs": [],
   "source": [
    "m = gp.Model()"
   ]
  },
  {
   "cell_type": "markdown",
   "metadata": {},
   "source": [
    "Create variables"
   ]
  },
  {
   "cell_type": "code",
   "execution_count": 69,
   "metadata": {},
   "outputs": [],
   "source": [
    "x = {} # part selection variables\n",
    "for subsystem in partOptions.keys():\n",
    "    x[subsystem] = m.addVars(partOptions[subsystem].index.values, vtype=GRB.BINARY, name=\"x[\" + subsystem + \"]\")\n",
    "y = m.addVars(suppliers, vtype=GRB.BINARY, name=\"y\") # supplier selection variables\n",
    "z = m.addVars(objectives, ub = 1, name=\"z\") # objective variables (normalized to [0,1] for minimization)\n",
    "v = m.addVars(suppliersPartsAndLevels, name=\"x\") # the purchase quantity, given that the quantity of part p purchased from supplier s is in price level l\n",
    "vBin = m.addVars(suppliersPartsAndLevels, vtype = GRB.BINARY, name=\"z\") # if the quantity of part p purchased from supplier s is in price level l\n",
    "w = m.addVars(customers, ub = cQty, name=\"w\") # variables to hold customer demand"
   ]
  },
  {
   "cell_type": "markdown",
   "metadata": {},
   "source": [
    "Set objective"
   ]
  },
  {
   "cell_type": "code",
   "execution_count": 70,
   "metadata": {},
   "outputs": [],
   "source": [
    "m.setObjective(qsum(productPrice*cQty[c]*w[c] for c in customers) - qsum(nominalPartPrices[p]*discounts[s,p,l]*v[s,p,l] for s,p,l in suppliersPartsAndLevels) - y.prod(supplierSetUpCost), GRB.MAXIMIZE)"
   ]
  },
  {
   "cell_type": "markdown",
   "metadata": {},
   "source": [
    "Quantity discount constraints"
   ]
  },
  {
   "cell_type": "code",
   "execution_count": 71,
   "metadata": {},
   "outputs": [],
   "source": [
    "numLevels = {(s,p) : len(priceLevels[s,p]) for s,p in suppliersPartPairs}\n",
    "\n",
    "suppliersPartsAndLevelsNotLast = [(s,p,l) for s,p in suppliersPartPairs for l in range(1,numLevels[s,p])]\n",
    "\n",
    "m.addConstrs((minQtys[s,p][l]*vBin[s,p,l] <= v[s,p,l] for s,p,l in suppliersPartsAndLevels), \n",
    "                \"PriceBreaks-LB\")\n",
    "m.addConstrs((v[s,p,l] <= minQtys[s,p][l+1]*vBin[s,p,l] for s,p,l in suppliersPartsAndLevelsNotLast), \n",
    "                \"PriceBreaks-UB\")\n",
    "m.addConstrs((v[s,p,numLevels[s,p]] <= maxQty[s,p]*vBin[s,p,numLevels[s,p]] for s,p in suppliersPartPairs), \n",
    "                \"PriceBreaks-UB-last\");"
   ]
  },
  {
   "cell_type": "markdown",
   "metadata": {},
   "source": [
    "Chad: add code here to set the equations for the $z$ variables (objectives)"
   ]
  },
  {
   "cell_type": "code",
   "execution_count": null,
   "metadata": {},
   "outputs": [],
   "source": []
  },
  {
   "cell_type": "markdown",
   "metadata": {},
   "source": [
    "Hugh: add code to compute customer demand based on utility"
   ]
  },
  {
   "cell_type": "markdown",
   "metadata": {},
   "source": []
  }
 ],
 "metadata": {
  "kernelspec": {
   "display_name": "sae-dsc",
   "language": "python",
   "name": "python3"
  },
  "language_info": {
   "codemirror_mode": {
    "name": "ipython",
    "version": 3
   },
   "file_extension": ".py",
   "mimetype": "text/x-python",
   "name": "python",
   "nbconvert_exporter": "python",
   "pygments_lexer": "ipython3",
   "version": "3.9.1"
  }
 },
 "nbformat": 4,
 "nbformat_minor": 2
}
