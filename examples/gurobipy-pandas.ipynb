{
 "cells": [
  {
   "cell_type": "code",
   "execution_count": 1,
   "id": "89533649-0e85-4a03-ab9e-e7fa892b36af",
   "metadata": {},
   "outputs": [],
   "source": [
    "import sae\n",
    "import pandas as pd"
   ]
  },
  {
   "cell_type": "markdown",
   "id": "4bc9b992-00c9-4788-aa5a-51795a62a962",
   "metadata": {},
   "source": [
    "Import Gurobipy library (includes Gurobi optimization solver)."
   ]
  },
  {
   "cell_type": "code",
   "execution_count": 53,
   "id": "59a7d1c6-beba-4aaa-a5f4-8bc9ab30c72a",
   "metadata": {},
   "outputs": [],
   "source": [
    "import gurobipy as gp\n",
    "from gurobipy import GRB"
   ]
  },
  {
   "cell_type": "code",
   "execution_count": 54,
   "id": "ea8ce9e4-ad0b-49a0-8542-28ad6b5de5ed",
   "metadata": {},
   "outputs": [],
   "source": [
    "parttypes = [sae.materials, sae.tires, sae.motors, sae.brakes, sae.suspension]\n",
    "sae.materials.name = 'materials'\n",
    "sae.tires.name = 'tires'\n",
    "sae.motors.name = 'motors'\n",
    "sae.brakes.name = 'brakes'\n",
    "sae.suspension.name = 'suspension'\n",
    "names = [parttype.name for parttype in parttypes]"
   ]
  },
  {
   "cell_type": "markdown",
   "id": "0c0e2a23-40fa-44e2-b7af-16b69f819a4b",
   "metadata": {},
   "source": [
    "Create Gurobi variables for choosing parts from each of the five types."
   ]
  },
  {
   "cell_type": "code",
   "execution_count": 55,
   "id": "45f82402-cc3c-43f6-89ca-642bb7cdb73a",
   "metadata": {},
   "outputs": [],
   "source": [
    "m = gp.Model()\n",
    "x = {}\n",
    "for df in parttypes:\n",
    "    x[df.name] = m.addVars(df.index.values, vtype=GRB.BINARY, name=\"x[\" + df.name + \"]\")"
   ]
  },
  {
   "cell_type": "markdown",
   "id": "bab412ff-4140-4446-b0d1-3a7cd5143283",
   "metadata": {},
   "source": [
    "Create constraints specifying that only one part of each type can be chosen."
   ]
  },
  {
   "cell_type": "code",
   "execution_count": 56,
   "id": "e9bd8064-4ebd-4cef-a7fd-1f15ccf622c4",
   "metadata": {},
   "outputs": [],
   "source": [
    "m.addConstrs((x[name].sum() == 1 for name in names));"
   ]
  }
 ],
 "metadata": {
  "kernelspec": {
   "display_name": "Python 3 (ipykernel)",
   "language": "python",
   "name": "python3"
  },
  "language_info": {
   "codemirror_mode": {
    "name": "ipython",
    "version": 3
   },
   "file_extension": ".py",
   "mimetype": "text/x-python",
   "name": "python",
   "nbconvert_exporter": "python",
   "pygments_lexer": "ipython3",
   "version": "3.9.1"
  }
 },
 "nbformat": 4,
 "nbformat_minor": 5
}
