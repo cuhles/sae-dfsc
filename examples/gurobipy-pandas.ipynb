{
 "cells": [
  {
   "cell_type": "code",
   "execution_count": 1,
   "id": "89533649-0e85-4a03-ab9e-e7fa892b36af",
   "metadata": {},
   "outputs": [],
   "source": [
    "import sae\n",
    "import pandas as pd\n",
    "import gurobipy as gp\n",
    "from gurobipy import GRB\n",
    "import gurobipy_pandas as gppd"
   ]
  },
  {
   "cell_type": "code",
   "execution_count": 19,
   "id": "ea8ce9e4-ad0b-49a0-8542-28ad6b5de5ed",
   "metadata": {},
   "outputs": [],
   "source": [
    "parttypes = [sae.materials, sae.tires, sae.motors, sae.brakes, sae.suspension]\n",
    "sae.materials.name = 'materials'\n",
    "sae.tires.name = 'tires'\n",
    "sae.motors.name = 'motors'\n",
    "sae.brakes.name = 'brakes'\n",
    "sae.suspension.name = 'suspension'"
   ]
  },
  {
   "cell_type": "code",
   "execution_count": 20,
   "id": "45f82402-cc3c-43f6-89ca-642bb7cdb73a",
   "metadata": {},
   "outputs": [
    {
     "data": {
      "text/plain": [
       "{'materials': 0      <gurobi.Var x[materials][0]>\n",
       " 1      <gurobi.Var x[materials][1]>\n",
       " 2      <gurobi.Var x[materials][2]>\n",
       " 3      <gurobi.Var x[materials][3]>\n",
       " 4      <gurobi.Var x[materials][4]>\n",
       " 5      <gurobi.Var x[materials][5]>\n",
       " 6      <gurobi.Var x[materials][6]>\n",
       " 7      <gurobi.Var x[materials][7]>\n",
       " 8      <gurobi.Var x[materials][8]>\n",
       " 9      <gurobi.Var x[materials][9]>\n",
       " 10    <gurobi.Var x[materials][10]>\n",
       " 11    <gurobi.Var x[materials][11]>\n",
       " 12    <gurobi.Var x[materials][12]>\n",
       " Name: x[materials], dtype: object,\n",
       " 'tires': 0    <gurobi.Var x[tires][0]>\n",
       " 1    <gurobi.Var x[tires][1]>\n",
       " 2    <gurobi.Var x[tires][2]>\n",
       " 3    <gurobi.Var x[tires][3]>\n",
       " 4    <gurobi.Var x[tires][4]>\n",
       " 5    <gurobi.Var x[tires][5]>\n",
       " 6    <gurobi.Var x[tires][6]>\n",
       " Name: x[tires], dtype: object,\n",
       " 'motors': 0      <gurobi.Var x[motors][0]>\n",
       " 1      <gurobi.Var x[motors][1]>\n",
       " 2      <gurobi.Var x[motors][2]>\n",
       " 3      <gurobi.Var x[motors][3]>\n",
       " 4      <gurobi.Var x[motors][4]>\n",
       " 5      <gurobi.Var x[motors][5]>\n",
       " 6      <gurobi.Var x[motors][6]>\n",
       " 7      <gurobi.Var x[motors][7]>\n",
       " 8      <gurobi.Var x[motors][8]>\n",
       " 9      <gurobi.Var x[motors][9]>\n",
       " 10    <gurobi.Var x[motors][10]>\n",
       " 11    <gurobi.Var x[motors][11]>\n",
       " 12    <gurobi.Var x[motors][12]>\n",
       " 13    <gurobi.Var x[motors][13]>\n",
       " 14    <gurobi.Var x[motors][14]>\n",
       " 15    <gurobi.Var x[motors][15]>\n",
       " 16    <gurobi.Var x[motors][16]>\n",
       " 17    <gurobi.Var x[motors][17]>\n",
       " 18    <gurobi.Var x[motors][18]>\n",
       " 19    <gurobi.Var x[motors][19]>\n",
       " 20    <gurobi.Var x[motors][20]>\n",
       " Name: x[motors], dtype: object,\n",
       " 'brakes': 0      <gurobi.Var x[brakes][0]>\n",
       " 1      <gurobi.Var x[brakes][1]>\n",
       " 2      <gurobi.Var x[brakes][2]>\n",
       " 3      <gurobi.Var x[brakes][3]>\n",
       " 4      <gurobi.Var x[brakes][4]>\n",
       " 5      <gurobi.Var x[brakes][5]>\n",
       " 6      <gurobi.Var x[brakes][6]>\n",
       " 7      <gurobi.Var x[brakes][7]>\n",
       " 8      <gurobi.Var x[brakes][8]>\n",
       " 9      <gurobi.Var x[brakes][9]>\n",
       " 10    <gurobi.Var x[brakes][10]>\n",
       " 11    <gurobi.Var x[brakes][11]>\n",
       " 12    <gurobi.Var x[brakes][12]>\n",
       " 13    <gurobi.Var x[brakes][13]>\n",
       " 14    <gurobi.Var x[brakes][14]>\n",
       " 15    <gurobi.Var x[brakes][15]>\n",
       " 16    <gurobi.Var x[brakes][16]>\n",
       " 17    <gurobi.Var x[brakes][17]>\n",
       " 18    <gurobi.Var x[brakes][18]>\n",
       " 19    <gurobi.Var x[brakes][19]>\n",
       " 20    <gurobi.Var x[brakes][20]>\n",
       " 21    <gurobi.Var x[brakes][21]>\n",
       " 22    <gurobi.Var x[brakes][22]>\n",
       " 23    <gurobi.Var x[brakes][23]>\n",
       " 24    <gurobi.Var x[brakes][24]>\n",
       " 25    <gurobi.Var x[brakes][25]>\n",
       " 26    <gurobi.Var x[brakes][26]>\n",
       " 27    <gurobi.Var x[brakes][27]>\n",
       " 28    <gurobi.Var x[brakes][28]>\n",
       " 29    <gurobi.Var x[brakes][29]>\n",
       " 30    <gurobi.Var x[brakes][30]>\n",
       " 31    <gurobi.Var x[brakes][31]>\n",
       " 32    <gurobi.Var x[brakes][32]>\n",
       " 33    <gurobi.Var x[brakes][33]>\n",
       " Name: x[brakes], dtype: object,\n",
       " 'suspension': 0    <gurobi.Var x[suspension][0]>\n",
       " 1    <gurobi.Var x[suspension][1]>\n",
       " 2    <gurobi.Var x[suspension][2]>\n",
       " 3    <gurobi.Var x[suspension][3]>\n",
       " 4    <gurobi.Var x[suspension][4]>\n",
       " Name: x[suspension], dtype: object}"
      ]
     },
     "execution_count": 20,
     "metadata": {},
     "output_type": "execute_result"
    }
   ],
   "source": [
    "model = gp.Model()\n",
    "x = {}\n",
    "for df in parttypes:\n",
    "    x[df.name] = gppd.add_vars(model, df, vtype=GRB.BINARY, name=\"x[\" + df.name + \"]\")\n",
    "model.update()\n",
    "x"
   ]
  },
  {
   "cell_type": "code",
   "execution_count": 24,
   "id": "e9bd8064-4ebd-4cef-a7fd-1f15ccf622c4",
   "metadata": {},
   "outputs": [
    {
     "data": {
      "text/plain": [
       "0    <gurobi.Var x[suspension][0]>\n",
       "1    <gurobi.Var x[suspension][1]>\n",
       "2    <gurobi.Var x[suspension][2]>\n",
       "3    <gurobi.Var x[suspension][3]>\n",
       "4    <gurobi.Var x[suspension][4]>\n",
       "Name: x[suspension], dtype: object"
      ]
     },
     "execution_count": 24,
     "metadata": {},
     "output_type": "execute_result"
    }
   ],
   "source": [
    "x[df.name]\n",
    "model.addConstrs((x[df.name].sum() == 1 for df in parttypes));"
   ]
  },
  {
   "cell_type": "code",
   "execution_count": null,
   "id": "cbe1e58c-eeb4-4543-ab03-57b50c89e1ad",
   "metadata": {},
   "outputs": [],
   "source": []
  }
 ],
 "metadata": {
  "kernelspec": {
   "display_name": "Python 3 (ipykernel)",
   "language": "python",
   "name": "python3"
  },
  "language_info": {
   "codemirror_mode": {
    "name": "ipython",
    "version": 3
   },
   "file_extension": ".py",
   "mimetype": "text/x-python",
   "name": "python",
   "nbconvert_exporter": "python",
   "pygments_lexer": "ipython3",
   "version": "3.9.1"
  }
 },
 "nbformat": 4,
 "nbformat_minor": 5
}
