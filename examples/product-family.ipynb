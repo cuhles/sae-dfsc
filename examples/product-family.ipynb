{
 "cells": [
  {
   "cell_type": "markdown",
   "id": "503fed7b-c3c1-46e4-91cc-325e74850f93",
   "metadata": {},
   "source": [
    "Import stuff."
   ]
  },
  {
   "cell_type": "code",
   "execution_count": 3,
   "id": "39de291d-3018-48de-b5cb-4d6ac25745be",
   "metadata": {},
   "outputs": [],
   "source": [
    "import sae\n",
    "import pandas as pd\n",
    "import sys\n",
    "sys.path.append('../')"
   ]
  },
  {
   "cell_type": "code",
   "execution_count": 5,
   "id": "3c7761d0-b14a-4a1b-970f-f6ca38b3bae9",
   "metadata": {},
   "outputs": [],
   "source": [
    "import saedfsc"
   ]
  },
  {
   "cell_type": "markdown",
   "id": "36ce6849-190d-4c56-a665-7aad441564f7",
   "metadata": {},
   "source": [
    "Show products DataFrame."
   ]
  },
  {
   "cell_type": "code",
   "execution_count": 8,
   "id": "f53b288d-1aca-4b42-9a76-c8effd6ee01a",
   "metadata": {},
   "outputs": [
    {
     "data": {
      "text/html": [
       "<div>\n",
       "<style scoped>\n",
       "    .dataframe tbody tr th:only-of-type {\n",
       "        vertical-align: middle;\n",
       "    }\n",
       "\n",
       "    .dataframe tbody tr th {\n",
       "        vertical-align: top;\n",
       "    }\n",
       "\n",
       "    .dataframe thead th {\n",
       "        text-align: right;\n",
       "    }\n",
       "</style>\n",
       "<table border=\"1\" class=\"dataframe\">\n",
       "  <thead>\n",
       "    <tr style=\"text-align: right;\">\n",
       "      <th></th>\n",
       "      <th>Unnamed: 0</th>\n",
       "      <th>name</th>\n",
       "    </tr>\n",
       "  </thead>\n",
       "  <tbody>\n",
       "    <tr>\n",
       "      <th>0</th>\n",
       "      <td>0</td>\n",
       "      <td>low</td>\n",
       "    </tr>\n",
       "    <tr>\n",
       "      <th>1</th>\n",
       "      <td>1</td>\n",
       "      <td>medium</td>\n",
       "    </tr>\n",
       "    <tr>\n",
       "      <th>2</th>\n",
       "      <td>2</td>\n",
       "      <td>high</td>\n",
       "    </tr>\n",
       "  </tbody>\n",
       "</table>\n",
       "</div>"
      ],
      "text/plain": [
       "   Unnamed: 0    name\n",
       "0           0     low\n",
       "1           1  medium\n",
       "2           2    high"
      ]
     },
     "execution_count": 8,
     "metadata": {},
     "output_type": "execute_result"
    }
   ],
   "source": [
    "saedfsc.products"
   ]
  },
  {
   "cell_type": "markdown",
   "id": "4bc9b992-00c9-4788-aa5a-51795a62a962",
   "metadata": {},
   "source": [
    "Import Gurobipy library (includes Gurobi optimization solver)."
   ]
  },
  {
   "cell_type": "code",
   "execution_count": 9,
   "id": "59a7d1c6-beba-4aaa-a5f4-8bc9ab30c72a",
   "metadata": {},
   "outputs": [],
   "source": [
    "import gurobipy as gp\n",
    "from gurobipy import GRB"
   ]
  },
  {
   "cell_type": "markdown",
   "id": "17fa6304-32f4-4ff4-8d44-3fb0dc9ad282",
   "metadata": {},
   "source": [
    "Make Python data structures for materials and parts and product family."
   ]
  },
  {
   "cell_type": "code",
   "execution_count": 13,
   "id": "ea8ce9e4-ad0b-49a0-8542-28ad6b5de5ed",
   "metadata": {},
   "outputs": [],
   "source": [
    "parttypes = [sae.materials, sae.tires, sae.motors, sae.brakes, sae.suspension]\n",
    "sae.materials.name = 'materials'\n",
    "sae.tires.name = 'tires'\n",
    "sae.motors.name = 'motors'\n",
    "sae.brakes.name = 'brakes'\n",
    "sae.suspension.name = 'suspension'\n",
    "names = [parttype.name for parttype in parttypes]\n",
    "prodIndices = saedfsc.products.index.values"
   ]
  },
  {
   "cell_type": "markdown",
   "id": "0c0e2a23-40fa-44e2-b7af-16b69f819a4b",
   "metadata": {},
   "source": [
    "Create Gurobi variables for choosing parts from each of the five types for each product in the product family."
   ]
  },
  {
   "cell_type": "code",
   "execution_count": 16,
   "id": "45f82402-cc3c-43f6-89ca-642bb7cdb73a",
   "metadata": {},
   "outputs": [],
   "source": [
    "m = gp.Model()\n",
    "x = {}\n",
    "for df in parttypes:\n",
    "    x[df.name] = m.addVars(prodIndices, df.index.values, vtype=GRB.BINARY, name=\"x[\" + df.name + \"]\")"
   ]
  },
  {
   "cell_type": "markdown",
   "id": "bab412ff-4140-4446-b0d1-3a7cd5143283",
   "metadata": {},
   "source": [
    "Create constraints specifying that only one part of each type can be chosen."
   ]
  },
  {
   "cell_type": "code",
   "execution_count": 18,
   "id": "e9bd8064-4ebd-4cef-a7fd-1f15ccf622c4",
   "metadata": {},
   "outputs": [
    {
     "data": {
      "text/plain": [
       "{('materials', 0): <gurobi.Constr *Awaiting Model Update*>,\n",
       " ('materials', 1): <gurobi.Constr *Awaiting Model Update*>,\n",
       " ('materials', 2): <gurobi.Constr *Awaiting Model Update*>,\n",
       " ('tires', 0): <gurobi.Constr *Awaiting Model Update*>,\n",
       " ('tires', 1): <gurobi.Constr *Awaiting Model Update*>,\n",
       " ('tires', 2): <gurobi.Constr *Awaiting Model Update*>,\n",
       " ('motors', 0): <gurobi.Constr *Awaiting Model Update*>,\n",
       " ('motors', 1): <gurobi.Constr *Awaiting Model Update*>,\n",
       " ('motors', 2): <gurobi.Constr *Awaiting Model Update*>,\n",
       " ('brakes', 0): <gurobi.Constr *Awaiting Model Update*>,\n",
       " ('brakes', 1): <gurobi.Constr *Awaiting Model Update*>,\n",
       " ('brakes', 2): <gurobi.Constr *Awaiting Model Update*>,\n",
       " ('suspension', 0): <gurobi.Constr *Awaiting Model Update*>,\n",
       " ('suspension', 1): <gurobi.Constr *Awaiting Model Update*>,\n",
       " ('suspension', 2): <gurobi.Constr *Awaiting Model Update*>}"
      ]
     },
     "execution_count": 18,
     "metadata": {},
     "output_type": "execute_result"
    }
   ],
   "source": [
    "m.addConstrs((x[name].sum(p, '*') == 1 for name in names for p in prodIndices))"
   ]
  },
  {
   "cell_type": "code",
   "execution_count": null,
   "id": "3d0d4f9d-751a-45dd-ba65-3440a2a04721",
   "metadata": {},
   "outputs": [],
   "source": []
  }
 ],
 "metadata": {
  "kernelspec": {
   "display_name": "Python 3 (ipykernel)",
   "language": "python",
   "name": "python3"
  },
  "language_info": {
   "codemirror_mode": {
    "name": "ipython",
    "version": 3
   },
   "file_extension": ".py",
   "mimetype": "text/x-python",
   "name": "python",
   "nbconvert_exporter": "python",
   "pygments_lexer": "ipython3",
   "version": "3.9.1"
  }
 },
 "nbformat": 4,
 "nbformat_minor": 5
}
