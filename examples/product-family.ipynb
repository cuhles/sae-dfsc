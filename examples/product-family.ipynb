{
 "cells": [
  {
   "cell_type": "markdown",
   "id": "503fed7b-c3c1-46e4-91cc-325e74850f93",
   "metadata": {},
   "source": [
    "Import stuff."
   ]
  },
  {
   "cell_type": "code",
   "execution_count": 3,
   "id": "39de291d-3018-48de-b5cb-4d6ac25745be",
   "metadata": {},
   "outputs": [],
   "source": [
    "import sae\n",
    "import pandas as pd\n",
    "import sys\n",
    "sys.path.append('../')"
   ]
  },
  {
   "cell_type": "code",
   "execution_count": 5,
   "id": "3c7761d0-b14a-4a1b-970f-f6ca38b3bae9",
   "metadata": {},
   "outputs": [],
   "source": [
    "import saedfsc"
   ]
  },
  {
   "cell_type": "markdown",
   "id": "36ce6849-190d-4c56-a665-7aad441564f7",
   "metadata": {},
   "source": [
    "Show products DataFrame."
   ]
  },
  {
   "cell_type": "code",
   "execution_count": 8,
   "id": "f53b288d-1aca-4b42-9a76-c8effd6ee01a",
   "metadata": {},
   "outputs": [
    {
     "data": {
      "text/html": [
       "<div>\n",
       "<style scoped>\n",
       "    .dataframe tbody tr th:only-of-type {\n",
       "        vertical-align: middle;\n",
       "    }\n",
       "\n",
       "    .dataframe tbody tr th {\n",
       "        vertical-align: top;\n",
       "    }\n",
       "\n",
       "    .dataframe thead th {\n",
       "        text-align: right;\n",
       "    }\n",
       "</style>\n",
       "<table border=\"1\" class=\"dataframe\">\n",
       "  <thead>\n",
       "    <tr style=\"text-align: right;\">\n",
       "      <th></th>\n",
       "      <th>Unnamed: 0</th>\n",
       "      <th>name</th>\n",
       "    </tr>\n",
       "  </thead>\n",
       "  <tbody>\n",
       "    <tr>\n",
       "      <th>0</th>\n",
       "      <td>0</td>\n",
       "      <td>low</td>\n",
       "    </tr>\n",
       "    <tr>\n",
       "      <th>1</th>\n",
       "      <td>1</td>\n",
       "      <td>medium</td>\n",
       "    </tr>\n",
       "    <tr>\n",
       "      <th>2</th>\n",
       "      <td>2</td>\n",
       "      <td>high</td>\n",
       "    </tr>\n",
       "  </tbody>\n",
       "</table>\n",
       "</div>"
      ],
      "text/plain": [
       "   Unnamed: 0    name\n",
       "0           0     low\n",
       "1           1  medium\n",
       "2           2    high"
      ]
     },
     "execution_count": 8,
     "metadata": {},
     "output_type": "execute_result"
    }
   ],
   "source": [
    "saedfsc.products"
   ]
  },
  {
   "cell_type": "markdown",
   "id": "4bc9b992-00c9-4788-aa5a-51795a62a962",
   "metadata": {},
   "source": [
    "Import Gurobipy library (includes Gurobi optimization solver)."
   ]
  },
  {
   "cell_type": "code",
   "execution_count": 9,
   "id": "59a7d1c6-beba-4aaa-a5f4-8bc9ab30c72a",
   "metadata": {},
   "outputs": [],
   "source": [
    "import gurobipy as gp\n",
    "from gurobipy import GRB"
   ]
  },
  {
   "cell_type": "markdown",
   "id": "17fa6304-32f4-4ff4-8d44-3fb0dc9ad282",
   "metadata": {},
   "source": [
    "Make Python data structures for materials and parts and product family."
   ]
  },
  {
   "cell_type": "code",
   "execution_count": 13,
   "id": "ea8ce9e4-ad0b-49a0-8542-28ad6b5de5ed",
   "metadata": {},
   "outputs": [],
   "source": [
    "parttypes = [sae.materials, sae.tires, sae.motors, sae.brakes, sae.suspension]\n",
    "sae.materials.name = 'materials'\n",
    "sae.tires.name = 'tires'\n",
    "sae.motors.name = 'motors'\n",
    "sae.brakes.name = 'brakes'\n",
    "sae.suspension.name = 'suspension'\n",
    "names = [parttype.name for parttype in parttypes]\n",
    "prodIndices = saedfsc.products.index.values"
   ]
  },
  {
   "cell_type": "markdown",
   "id": "0c0e2a23-40fa-44e2-b7af-16b69f819a4b",
   "metadata": {},
   "source": [
    "Create Gurobi variables for choosing parts from each of the five types for each product in the product family."
   ]
  },
  {
   "cell_type": "code",
   "execution_count": 16,
   "id": "45f82402-cc3c-43f6-89ca-642bb7cdb73a",
   "metadata": {},
   "outputs": [],
   "source": [
    "m = gp.Model()\n",
    "x = {}\n",
    "for df in parttypes:\n",
    "    x[df.name] = m.addVars(prodIndices, df.index.values, vtype=GRB.BINARY, name=\"x[\" + df.name + \"]\")"
   ]
  },
  {
   "cell_type": "markdown",
   "id": "bab412ff-4140-4446-b0d1-3a7cd5143283",
   "metadata": {},
   "source": [
    "Create constraints specifying that only one part of each type can be chosen."
   ]
  },
  {
   "cell_type": "code",
   "execution_count": 18,
   "id": "e9bd8064-4ebd-4cef-a7fd-1f15ccf622c4",
   "metadata": {},
   "outputs": [
    {
     "data": {
      "text/plain": [
       "{('materials', 0): <gurobi.Constr *Awaiting Model Update*>,\n",
       " ('materials', 1): <gurobi.Constr *Awaiting Model Update*>,\n",
       " ('materials', 2): <gurobi.Constr *Awaiting Model Update*>,\n",
       " ('tires', 0): <gurobi.Constr *Awaiting Model Update*>,\n",
       " ('tires', 1): <gurobi.Constr *Awaiting Model Update*>,\n",
       " ('tires', 2): <gurobi.Constr *Awaiting Model Update*>,\n",
       " ('motors', 0): <gurobi.Constr *Awaiting Model Update*>,\n",
       " ('motors', 1): <gurobi.Constr *Awaiting Model Update*>,\n",
       " ('motors', 2): <gurobi.Constr *Awaiting Model Update*>,\n",
       " ('brakes', 0): <gurobi.Constr *Awaiting Model Update*>,\n",
       " ('brakes', 1): <gurobi.Constr *Awaiting Model Update*>,\n",
       " ('brakes', 2): <gurobi.Constr *Awaiting Model Update*>,\n",
       " ('suspension', 0): <gurobi.Constr *Awaiting Model Update*>,\n",
       " ('suspension', 1): <gurobi.Constr *Awaiting Model Update*>,\n",
       " ('suspension', 2): <gurobi.Constr *Awaiting Model Update*>}"
      ]
     },
     "execution_count": 18,
     "metadata": {},
     "output_type": "execute_result"
    }
   ],
   "source": [
    "m.addConstrs((x[name].sum(p, '*') == 1 for name in names for p in prodIndices))"
   ]
  },
  {
   "cell_type": "code",
   "execution_count": 27,
   "id": "3d0d4f9d-751a-45dd-ba65-3440a2a04721",
   "metadata": {},
   "outputs": [
    {
     "name": "stdout",
     "output_type": "stream",
     "text": [
      "{'__module__': 'sae', '__init__': <function COTSCar.__init__ at 0x7ff1f2a13f70>, 'objectives': <function COTSCar.objectives at 0x7ff1f2a14040>, 'constraints_bound': <function COTSCar.constraints_bound at 0x7ff1f2a140d0>, 'constraints_lin_ineq': <function COTSCar.constraints_lin_ineq at 0x7ff1f2a14160>, 'constraints_nonlin_ineq': <function COTSCar.constraints_nonlin_ineq at 0x7ff1f2a141f0>, 'set_param': <function COTSCar.set_param at 0x7ff1f2a14280>, 'set_vec': <function COTSCar.set_vec at 0x7ff1f2a14310>, 'get_param': <function COTSCar.get_param at 0x7ff1f2a143a0>, 'get_vec': <function COTSCar.get_vec at 0x7ff1f2a14430>, '__dict__': <attribute '__dict__' of 'COTSCar' objects>, '__weakref__': <attribute '__weakref__' of 'COTSCar' objects>, '__doc__': None}\n",
      "dir\n",
      "['vector', 'hrw', 'lrw', 'arw', 'hfw', 'lfw', 'wfw', 'afw', 'hsw', 'lsw', 'wsw', 'asw', 'Prt', 'Pft', 'hc', 'lc', 'wc', 'tc', 'hia', 'wia', 'qrw', 'qfw', 'qsw', 'qc', 'qia', 'Eia', 'rear_tire', 'rrt', 'mrt', 'front_tire', 'rft', 'mft', 'engine', 'Phi_e', 'le', 'he', 'T_e', 'me', 'brakes', 'rbrk', 'qbrk', 'lbrk', 'hbrk', 'wbrk', 'tbrk', 'suspension', 'krsp', 'crsp', 'mrsp', 'kfsp', 'cfsp', 'mfsp', 'wrw', 'yrw', 'yfw', 'ysw', 'ye', 'yc', 'lia', 'yia', 'yrsp', 'yfsp', '__module__', '__init__', 'objectives', 'constraints_bound', 'constraints_lin_ineq', 'constraints_nonlin_ineq', 'set_param', 'set_vec', 'get_param', 'get_vec', '_mass', '_height_of_center_of_gravity', '_total_drag_force', '_total_down_force', '_acceleration', '_crash_force', '_impact_attenuator_volume', '_corner_velocity', '_breaking_distance', '_suspension_acceleration', '_pitch_moment', '_Car__rear_wing_mass', '_Car__front_wing_mass', '_Car__side_wing_mass', '_Car__impact_attenuator_mass', '_Car__mc', '_Car__mbrk', '_Car__rolling_resistance', '_Car__suspension_force', '_Car__wing_aspect_ratio', '_Car__lift_coefficient', '_Car__drag_coefficient', '_Car__wing_down_force', '_Car__wing_drag_force', '_Car__drag_force', '__dict__', '__weakref__', '__doc__', '__repr__', '__hash__', '__str__', '__getattribute__', '__setattr__', '__delattr__', '__lt__', '__le__', '__eq__', '__ne__', '__gt__', '__ge__', '__new__', '__reduce_ex__', '__reduce__', '__subclasshook__', '__init_subclass__', '__format__', '__sizeof__', '__dir__', '__class__']\n",
      "[12, 9, 1, 2, 2, 0, 1, 3, 0, 3]\n",
      "(0.371297991122495, array([0.15381815, 0.59944924, 0.10542942, 0.92448758, 1.        ,\n",
      "       0.02663299, 0.18686867, 0.47841153, 0.27938029, 0.02868882,\n",
      "       0.3011112 ]))\n",
      "[0 0 0 0 0 0 0 0 0 0 0 0 0 0 0 0 0 0 0]\n",
      "[0 0 0 0 0 0 0 0 0 0 0 0 0 0 0 0 0 0 0 0]\n",
      "[0 0]\n"
     ]
    }
   ],
   "source": [
    "car = sae.COTSCar()\n",
    "print(sae.COTSCar.__dict__)\n",
    "print(\"dir\")\n",
    "print(car.car.__dir__())\n",
    "print(car.vector)\n",
    "print(car.objectives())\n",
    "print(car.constraints_bound())\n",
    "print(car.constraints_lin_ineq())\n",
    "print(car.constraints_nonlin_ineq())"
   ]
  },
  {
   "cell_type": "code",
   "execution_count": 29,
   "id": "ebec90be-ab38-49d2-a43a-8c27a05d908d",
   "metadata": {},
   "outputs": [
    {
     "data": {
      "text/plain": [
       "0       hrw\n",
       "1       lrw\n",
       "2       arw\n",
       "3       hfw\n",
       "4       lfw\n",
       "5       wfw\n",
       "6       afw\n",
       "7       hsw\n",
       "8       lsw\n",
       "9       wsw\n",
       "10      asw\n",
       "11      Prt\n",
       "12      Pft\n",
       "13       hc\n",
       "14       lc\n",
       "15       wc\n",
       "16       tc\n",
       "17      hia\n",
       "18      wia\n",
       "19      qrw\n",
       "20      qfw\n",
       "21      qsw\n",
       "22       qc\n",
       "23      qia\n",
       "24      Eia\n",
       "25      rrt\n",
       "26      mrt\n",
       "27      rft\n",
       "28      mft\n",
       "29    Phi_e\n",
       "30       le\n",
       "31       he\n",
       "32      T_e\n",
       "33       me\n",
       "34     rbrk\n",
       "35     qbrk\n",
       "36     lbrk\n",
       "37     hbrk\n",
       "38     wbrk\n",
       "39     tbrk\n",
       "40     krsp\n",
       "41     crsp\n",
       "42     mrsp\n",
       "43     kfsp\n",
       "44     cfsp\n",
       "45     mfsp\n",
       "46      wrw\n",
       "47      yrw\n",
       "48      yfw\n",
       "49      ysw\n",
       "50       ye\n",
       "51       yc\n",
       "52      lia\n",
       "53      yia\n",
       "54     yrsp\n",
       "55     yfsp\n",
       "Name: variable, dtype: object"
      ]
     },
     "execution_count": 29,
     "metadata": {},
     "output_type": "execute_result"
    }
   ],
   "source": [
    "sae.params['variable']"
   ]
  },
  {
   "cell_type": "code",
   "execution_count": null,
   "id": "746e515f-b1dc-4b51-bc7f-82f89efe9341",
   "metadata": {},
   "outputs": [],
   "source": []
  }
 ],
 "metadata": {
  "kernelspec": {
   "display_name": "Python 3 (ipykernel)",
   "language": "python",
   "name": "python3"
  },
  "language_info": {
   "codemirror_mode": {
    "name": "ipython",
    "version": 3
   },
   "file_extension": ".py",
   "mimetype": "text/x-python",
   "name": "python",
   "nbconvert_exporter": "python",
   "pygments_lexer": "ipython3",
   "version": "3.9.1"
  }
 },
 "nbformat": 4,
 "nbformat_minor": 5
}
