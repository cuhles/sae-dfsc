{
 "cells": [
  {
   "cell_type": "code",
   "execution_count": 1,
   "metadata": {},
   "outputs": [
    {
     "name": "stdout",
     "output_type": "stream",
     "text": [
      "Intel MKL WARNING: Support of Intel(R) Streaming SIMD Extensions 4.2 (Intel(R) SSE4.2) enabled only processors has been deprecated. Intel oneAPI Math Kernel Library 2025.0 will require Intel(R) Advanced Vector Extensions (Intel(R) AVX) instructions.\n",
      "Intel MKL WARNING: Support of Intel(R) Streaming SIMD Extensions 4.2 (Intel(R) SSE4.2) enabled only processors has been deprecated. Intel oneAPI Math Kernel Library 2025.0 will require Intel(R) Advanced Vector Extensions (Intel(R) AVX) instructions.\n"
     ]
    }
   ],
   "source": [
    "import os\n",
    "from pandas import read_csv, read_excel, DataFrame\n",
    "import sae\n",
    "import gurobipy as gp\n",
    "from gurobipy import GRB\n",
    "import numpy as np\n",
    "\n",
    "import sys\n",
    "sys.path.append('../../')\n",
    "import saedfsc"
   ]
  },
  {
   "cell_type": "code",
   "execution_count": 2,
   "metadata": {},
   "outputs": [
    {
     "data": {
      "text/html": [
       "<div>\n",
       "<style scoped>\n",
       "    .dataframe tbody tr th:only-of-type {\n",
       "        vertical-align: middle;\n",
       "    }\n",
       "\n",
       "    .dataframe tbody tr th {\n",
       "        vertical-align: top;\n",
       "    }\n",
       "\n",
       "    .dataframe thead th {\n",
       "        text-align: right;\n",
       "    }\n",
       "</style>\n",
       "<table border=\"1\" class=\"dataframe\">\n",
       "  <thead>\n",
       "    <tr style=\"text-align: right;\">\n",
       "      <th></th>\n",
       "      <th>Name</th>\n",
       "      <th>Quantity</th>\n",
       "      <th>Mean Demand</th>\n",
       "      <th>Std Dev Demand</th>\n",
       "      <th>PriceFocus</th>\n",
       "      <th>PartworthUtilityWeights</th>\n",
       "      <th>PerformanceUtilityWeights</th>\n",
       "    </tr>\n",
       "  </thead>\n",
       "  <tbody>\n",
       "    <tr>\n",
       "      <th>0</th>\n",
       "      <td>CustomerType1</td>\n",
       "      <td>550</td>\n",
       "      <td>23</td>\n",
       "      <td>4</td>\n",
       "      <td>0.185002</td>\n",
       "      <td>[0.05502635,0.15548226,0.1138455 ,0.15706312,0...</td>\n",
       "      <td>[0.10403705,0.17744796,0.11303432,0.01412367,0...</td>\n",
       "    </tr>\n",
       "    <tr>\n",
       "      <th>1</th>\n",
       "      <td>CustomerType2</td>\n",
       "      <td>32</td>\n",
       "      <td>19</td>\n",
       "      <td>2</td>\n",
       "      <td>0.721966</td>\n",
       "      <td>[0.05439101,0.0698292 ,0.1680139 ,0.07585734,0...</td>\n",
       "      <td>[0.19323785,0.15236526,0.06466306,0.07034756,0...</td>\n",
       "    </tr>\n",
       "    <tr>\n",
       "      <th>2</th>\n",
       "      <td>CustomerType3</td>\n",
       "      <td>804</td>\n",
       "      <td>21</td>\n",
       "      <td>4</td>\n",
       "      <td>0.489219</td>\n",
       "      <td>[0.09282521,0.08616018,0.1542277 ,0.13957106,0...</td>\n",
       "      <td>[0.13414659,0.13715431,0.03786418,0.11151464,0...</td>\n",
       "    </tr>\n",
       "  </tbody>\n",
       "</table>\n",
       "</div>"
      ],
      "text/plain": [
       "            Name  Quantity  Mean Demand  Std Dev Demand  PriceFocus  \\\n",
       "0  CustomerType1       550           23               4    0.185002   \n",
       "1  CustomerType2        32           19               2    0.721966   \n",
       "2  CustomerType3       804           21               4    0.489219   \n",
       "\n",
       "                             PartworthUtilityWeights  \\\n",
       "0  [0.05502635,0.15548226,0.1138455 ,0.15706312,0...   \n",
       "1  [0.05439101,0.0698292 ,0.1680139 ,0.07585734,0...   \n",
       "2  [0.09282521,0.08616018,0.1542277 ,0.13957106,0...   \n",
       "\n",
       "                           PerformanceUtilityWeights  \n",
       "0  [0.10403705,0.17744796,0.11303432,0.01412367,0...  \n",
       "1  [0.19323785,0.15236526,0.06466306,0.07034756,0...  \n",
       "2  [0.13414659,0.13715431,0.03786418,0.11151464,0...  "
      ]
     },
     "execution_count": 2,
     "metadata": {},
     "output_type": "execute_result"
    }
   ],
   "source": [
    "numCustomersTypes = 3\n",
    "numSubsystems = 10\n",
    "numObjectives = 11\n",
    "\n",
    "# Create a list of supplier names\n",
    "names = ['CustomerType' + str(i) for i in range(1, numCustomersTypes + 1)]\n",
    "\n",
    "qty = np.random.randint(low=25, high=1000, size=numCustomersTypes)\n",
    "meanDemand = np.random.randint(low=15, high=30, size=numCustomersTypes)\n",
    "stdDevDemand = np.random.randint(low=1, high=5, size=numCustomersTypes)\n",
    "priceFocus = np.random.random(size=numCustomersTypes)\n",
    "\n",
    "rawPartworthWts = [np.random.random(numSubsystems) for _ in range(numCustomersTypes)]\n",
    "partworthWts = [np.array2string(rawPartworthWts[c]/sum(rawPartworthWts[c]), separator=',') for c in range(numCustomersTypes)]\n",
    "rawPerfWts = [np.random.random(numObjectives) for _ in range(numCustomersTypes)]\n",
    "perfWts = [np.array2string(rawPerfWts[c]/sum(rawPerfWts[c]), separator=',') for c in range(numCustomersTypes)]\n",
    "\n",
    "# Create the DataFrame\n",
    "df = DataFrame({\n",
    "    'Name': names,\n",
    "    'Quantity': qty,\n",
    "    'Mean Demand': meanDemand,\n",
    "    'Std Dev Demand': stdDevDemand,\n",
    "    'PriceFocus': priceFocus,\n",
    "    'PartworthUtilityWeights': partworthWts,\n",
    "    'PerformanceUtilityWeights': perfWts\n",
    "})\n",
    "df.to_csv('../resources/customers-{}.csv'.format(numCustomersTypes), index=False)\n",
    "customers: DataFrame = read_csv('../resources/customers-{}.csv'.format(numCustomersTypes))\n",
    "customers"
   ]
  },
  {
   "cell_type": "markdown",
   "metadata": {},
   "source": [
    "Print dictionary of customers and their weights."
   ]
  },
  {
   "cell_type": "code",
   "execution_count": 3,
   "metadata": {},
   "outputs": [
    {
     "data": {
      "text/plain": [
       "{'CustomerType1': array([0.10403705, 0.17744796, 0.11303432, 0.01412367, 0.09074952,\n",
       "        0.06196034, 0.04152583, 0.07723446, 0.08962796, 0.14334552,\n",
       "        0.08691335]),\n",
       " 'CustomerType2': array([0.19323785, 0.15236526, 0.06466306, 0.07034756, 0.00089544,\n",
       "        0.00064008, 0.12437685, 0.1397965 , 0.07107653, 0.14266048,\n",
       "        0.03994039]),\n",
       " 'CustomerType3': array([0.13414659, 0.13715431, 0.03786418, 0.11151464, 0.12350755,\n",
       "        0.12949936, 0.13148834, 0.01641187, 0.05542951, 0.06425334,\n",
       "        0.05873032])}"
      ]
     },
     "execution_count": 3,
     "metadata": {},
     "output_type": "execute_result"
    }
   ],
   "source": [
    "name_weights_dict = customers.set_index('Name')['PerformanceUtilityWeights'].to_dict()\n",
    "cWts = {c : np.fromstring(name_weights_dict[c].strip('[]'), sep=',') for c in name_weights_dict}\n",
    "cWts"
   ]
  },
  {
   "cell_type": "code",
   "execution_count": 4,
   "metadata": {},
   "outputs": [
    {
     "data": {
      "text/plain": [
       "{'CustomerType1': 550, 'CustomerType2': 32, 'CustomerType3': 804}"
      ]
     },
     "execution_count": 4,
     "metadata": {},
     "output_type": "execute_result"
    }
   ],
   "source": [
    "cQty = dict(zip(customers['Name'], customers['Quantity'])) # customer quantities\n",
    "cQty"
   ]
  },
  {
   "cell_type": "code",
   "execution_count": null,
   "metadata": {},
   "outputs": [],
   "source": []
  }
 ],
 "metadata": {
  "kernelspec": {
   "display_name": "sae-dsc",
   "language": "python",
   "name": "python3"
  },
  "language_info": {
   "codemirror_mode": {
    "name": "ipython",
    "version": 3
   },
   "file_extension": ".py",
   "mimetype": "text/x-python",
   "name": "python",
   "nbconvert_exporter": "python",
   "pygments_lexer": "ipython3",
   "version": "3.9.1"
  }
 },
 "nbformat": 4,
 "nbformat_minor": 2
}
