{
 "cells": [
  {
   "cell_type": "code",
   "execution_count": 1,
   "metadata": {},
   "outputs": [
    {
     "name": "stdout",
     "output_type": "stream",
     "text": [
      "Intel MKL WARNING: Support of Intel(R) Streaming SIMD Extensions 4.2 (Intel(R) SSE4.2) enabled only processors has been deprecated. Intel oneAPI Math Kernel Library 2025.0 will require Intel(R) Advanced Vector Extensions (Intel(R) AVX) instructions.\n",
      "Intel MKL WARNING: Support of Intel(R) Streaming SIMD Extensions 4.2 (Intel(R) SSE4.2) enabled only processors has been deprecated. Intel oneAPI Math Kernel Library 2025.0 will require Intel(R) Advanced Vector Extensions (Intel(R) AVX) instructions.\n"
     ]
    }
   ],
   "source": [
    "import os\n",
    "from pandas import read_csv, read_excel, DataFrame\n",
    "import sae\n",
    "import gurobipy as gp\n",
    "from gurobipy import GRB\n",
    "import numpy as np\n",
    "\n",
    "import sys\n",
    "sys.path.append('../../')\n",
    "import saedfsc"
   ]
  },
  {
   "cell_type": "code",
   "execution_count": 2,
   "metadata": {},
   "outputs": [
    {
     "data": {
      "text/html": [
       "<div>\n",
       "<style scoped>\n",
       "    .dataframe tbody tr th:only-of-type {\n",
       "        vertical-align: middle;\n",
       "    }\n",
       "\n",
       "    .dataframe tbody tr th {\n",
       "        vertical-align: top;\n",
       "    }\n",
       "\n",
       "    .dataframe thead th {\n",
       "        text-align: right;\n",
       "    }\n",
       "</style>\n",
       "<table border=\"1\" class=\"dataframe\">\n",
       "  <thead>\n",
       "    <tr style=\"text-align: right;\">\n",
       "      <th></th>\n",
       "      <th>Name</th>\n",
       "      <th>Quantity</th>\n",
       "      <th>Mean Demand</th>\n",
       "      <th>Std Dev Demand</th>\n",
       "      <th>PriceFocus</th>\n",
       "      <th>PartworthUtilityWeights</th>\n",
       "      <th>PerformanceUtilityWeights</th>\n",
       "    </tr>\n",
       "  </thead>\n",
       "  <tbody>\n",
       "    <tr>\n",
       "      <th>0</th>\n",
       "      <td>CustomerType1</td>\n",
       "      <td>369</td>\n",
       "      <td>28</td>\n",
       "      <td>3</td>\n",
       "      <td>0.687201</td>\n",
       "      <td>[0.06897525,0.09315147,0.10288738,0.14439312,0...</td>\n",
       "      <td>[0.03042763,0.10658991,0.11520555,0.04257262,0...</td>\n",
       "    </tr>\n",
       "    <tr>\n",
       "      <th>1</th>\n",
       "      <td>CustomerType2</td>\n",
       "      <td>764</td>\n",
       "      <td>17</td>\n",
       "      <td>3</td>\n",
       "      <td>0.921499</td>\n",
       "      <td>[0.06897525,0.09315147,0.10288738,0.14439312,0...</td>\n",
       "      <td>[0.03042763,0.10658991,0.11520555,0.04257262,0...</td>\n",
       "    </tr>\n",
       "    <tr>\n",
       "      <th>2</th>\n",
       "      <td>CustomerType3</td>\n",
       "      <td>927</td>\n",
       "      <td>25</td>\n",
       "      <td>4</td>\n",
       "      <td>0.327967</td>\n",
       "      <td>[0.06897525,0.09315147,0.10288738,0.14439312,0...</td>\n",
       "      <td>[0.03042763,0.10658991,0.11520555,0.04257262,0...</td>\n",
       "    </tr>\n",
       "  </tbody>\n",
       "</table>\n",
       "</div>"
      ],
      "text/plain": [
       "            Name  Quantity  Mean Demand  Std Dev Demand  PriceFocus  \\\n",
       "0  CustomerType1       369           28               3    0.687201   \n",
       "1  CustomerType2       764           17               3    0.921499   \n",
       "2  CustomerType3       927           25               4    0.327967   \n",
       "\n",
       "                             PartworthUtilityWeights  \\\n",
       "0  [0.06897525,0.09315147,0.10288738,0.14439312,0...   \n",
       "1  [0.06897525,0.09315147,0.10288738,0.14439312,0...   \n",
       "2  [0.06897525,0.09315147,0.10288738,0.14439312,0...   \n",
       "\n",
       "                           PerformanceUtilityWeights  \n",
       "0  [0.03042763,0.10658991,0.11520555,0.04257262,0...  \n",
       "1  [0.03042763,0.10658991,0.11520555,0.04257262,0...  \n",
       "2  [0.03042763,0.10658991,0.11520555,0.04257262,0...  "
      ]
     },
     "execution_count": 2,
     "metadata": {},
     "output_type": "execute_result"
    }
   ],
   "source": [
    "numCustomersTypes = 3\n",
    "numSubsystems = 10\n",
    "numObjectives = 11\n",
    "\n",
    "# Create a list of supplier names\n",
    "names = ['CustomerType' + str(i) for i in range(1, numCustomersTypes + 1)]\n",
    "\n",
    "qty = np.random.randint(low=25, high=1000, size=numCustomersTypes)\n",
    "meanDemand = np.random.randint(low=15, high=30, size=numCustomersTypes)\n",
    "stdDevDemand = np.random.randint(low=1, high=5, size=numCustomersTypes)\n",
    "priceFocus = np.random.random(size=numCustomersTypes)\n",
    "\n",
    "rawPartworthWts = np.random.random(numSubsystems)\n",
    "partworthWts = [np.array2string(rawPartworthWts/sum(rawPartworthWts), separator=',') for _ in range(numCustomersTypes)]\n",
    "rawPerfWts = np.random.random(numObjectives)\n",
    "perfWts = [np.array2string(rawPerfWts/sum(rawPerfWts), separator=',') for _ in range(numCustomersTypes)]\n",
    "\n",
    "# Create the DataFrame\n",
    "df = DataFrame({\n",
    "    'Name': names,\n",
    "    'Quantity': qty,\n",
    "    'Mean Demand': meanDemand,\n",
    "    'Std Dev Demand': stdDevDemand,\n",
    "    'PriceFocus': priceFocus,\n",
    "    'PartworthUtilityWeights': partworthWts,\n",
    "    'PerformanceUtilityWeights': perfWts\n",
    "})\n",
    "df.to_csv('../resources/customers-{}.csv'.format(numCustomersTypes), index=False)\n",
    "customers: DataFrame = read_csv('../resources/customers-{}.csv'.format(numCustomersTypes))\n",
    "customers"
   ]
  },
  {
   "cell_type": "markdown",
   "metadata": {},
   "source": [
    "Print dictionary of customers and their weights."
   ]
  },
  {
   "cell_type": "code",
   "execution_count": 3,
   "metadata": {},
   "outputs": [
    {
     "data": {
      "text/plain": [
       "{'CustomerType1': array([0.03042763, 0.10658991, 0.11520555, 0.04257262, 0.09415735,\n",
       "        0.06300855, 0.11802392, 0.10337506, 0.11301378, 0.12870588,\n",
       "        0.08491975]),\n",
       " 'CustomerType2': array([0.03042763, 0.10658991, 0.11520555, 0.04257262, 0.09415735,\n",
       "        0.06300855, 0.11802392, 0.10337506, 0.11301378, 0.12870588,\n",
       "        0.08491975]),\n",
       " 'CustomerType3': array([0.03042763, 0.10658991, 0.11520555, 0.04257262, 0.09415735,\n",
       "        0.06300855, 0.11802392, 0.10337506, 0.11301378, 0.12870588,\n",
       "        0.08491975])}"
      ]
     },
     "execution_count": 3,
     "metadata": {},
     "output_type": "execute_result"
    }
   ],
   "source": [
    "name_weights_dict = customers.set_index('Name')['PerformanceUtilityWeights'].to_dict()\n",
    "cWts = {c : np.fromstring(name_weights_dict[c].strip('[]'), sep=',') for c in name_weights_dict}\n",
    "cWts"
   ]
  },
  {
   "cell_type": "code",
   "execution_count": 4,
   "metadata": {},
   "outputs": [
    {
     "data": {
      "text/plain": [
       "{'CustomerType1': 369, 'CustomerType2': 764, 'CustomerType3': 927}"
      ]
     },
     "execution_count": 4,
     "metadata": {},
     "output_type": "execute_result"
    }
   ],
   "source": [
    "cQty = dict(zip(customers['Name'], customers['Quantity'])) # customer quantities\n",
    "cQty"
   ]
  },
  {
   "cell_type": "code",
   "execution_count": null,
   "metadata": {},
   "outputs": [],
   "source": []
  }
 ],
 "metadata": {
  "kernelspec": {
   "display_name": "sae-dsc",
   "language": "python",
   "name": "python3"
  },
  "language_info": {
   "codemirror_mode": {
    "name": "ipython",
    "version": 3
   },
   "file_extension": ".py",
   "mimetype": "text/x-python",
   "name": "python",
   "nbconvert_exporter": "python",
   "pygments_lexer": "ipython3",
   "version": "3.9.1"
  }
 },
 "nbformat": 4,
 "nbformat_minor": 2
}
