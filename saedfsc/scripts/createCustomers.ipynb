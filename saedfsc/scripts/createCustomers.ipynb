{
 "cells": [
  {
   "cell_type": "code",
   "execution_count": 5,
   "metadata": {},
   "outputs": [],
   "source": [
    "import os\n",
    "from pandas import read_csv, read_excel, DataFrame\n",
    "import sae\n",
    "import gurobipy as gp\n",
    "from gurobipy import GRB\n",
    "import numpy as np\n",
    "\n",
    "import sys\n",
    "sys.path.append('../../')\n",
    "import saedfsc"
   ]
  },
  {
   "cell_type": "code",
   "execution_count": 6,
   "metadata": {},
   "outputs": [
    {
     "data": {
      "text/html": [
       "<div>\n",
       "<style scoped>\n",
       "    .dataframe tbody tr th:only-of-type {\n",
       "        vertical-align: middle;\n",
       "    }\n",
       "\n",
       "    .dataframe tbody tr th {\n",
       "        vertical-align: top;\n",
       "    }\n",
       "\n",
       "    .dataframe thead th {\n",
       "        text-align: right;\n",
       "    }\n",
       "</style>\n",
       "<table border=\"1\" class=\"dataframe\">\n",
       "  <thead>\n",
       "    <tr style=\"text-align: right;\">\n",
       "      <th></th>\n",
       "      <th>Name</th>\n",
       "      <th>Quantity</th>\n",
       "      <th>Mean Demand</th>\n",
       "      <th>Std Dev Demand</th>\n",
       "      <th>PriceFocus</th>\n",
       "      <th>PartworthUtilityWeights</th>\n",
       "      <th>PerformanceUtilityWeights</th>\n",
       "    </tr>\n",
       "  </thead>\n",
       "  <tbody>\n",
       "    <tr>\n",
       "      <th>0</th>\n",
       "      <td>CustomerType1</td>\n",
       "      <td>785</td>\n",
       "      <td>16</td>\n",
       "      <td>3</td>\n",
       "      <td>0.943944</td>\n",
       "      <td>[0.15911931,0.31794878,0.60614632,0.11971278,0...</td>\n",
       "      <td>[0.07353441,0.23812319,0.88198825,0.18071148,0...</td>\n",
       "    </tr>\n",
       "    <tr>\n",
       "      <th>1</th>\n",
       "      <td>CustomerType2</td>\n",
       "      <td>127</td>\n",
       "      <td>21</td>\n",
       "      <td>3</td>\n",
       "      <td>0.392428</td>\n",
       "      <td>[0.78091746,0.76884294,0.09853732,0.42630513,0...</td>\n",
       "      <td>[0.06854985,0.53773759,0.93934427,0.94031569,0...</td>\n",
       "    </tr>\n",
       "    <tr>\n",
       "      <th>2</th>\n",
       "      <td>CustomerType3</td>\n",
       "      <td>966</td>\n",
       "      <td>20</td>\n",
       "      <td>1</td>\n",
       "      <td>0.324017</td>\n",
       "      <td>[0.65919069,0.33134067,0.9477402 ,0.70901273,0...</td>\n",
       "      <td>[0.98918637,0.95977688,0.30505229,0.96212633,0...</td>\n",
       "    </tr>\n",
       "  </tbody>\n",
       "</table>\n",
       "</div>"
      ],
      "text/plain": [
       "            Name  Quantity  Mean Demand  Std Dev Demand  PriceFocus  \\\n",
       "0  CustomerType1       785           16               3    0.943944   \n",
       "1  CustomerType2       127           21               3    0.392428   \n",
       "2  CustomerType3       966           20               1    0.324017   \n",
       "\n",
       "                             PartworthUtilityWeights  \\\n",
       "0  [0.15911931,0.31794878,0.60614632,0.11971278,0...   \n",
       "1  [0.78091746,0.76884294,0.09853732,0.42630513,0...   \n",
       "2  [0.65919069,0.33134067,0.9477402 ,0.70901273,0...   \n",
       "\n",
       "                           PerformanceUtilityWeights  \n",
       "0  [0.07353441,0.23812319,0.88198825,0.18071148,0...  \n",
       "1  [0.06854985,0.53773759,0.93934427,0.94031569,0...  \n",
       "2  [0.98918637,0.95977688,0.30505229,0.96212633,0...  "
      ]
     },
     "execution_count": 6,
     "metadata": {},
     "output_type": "execute_result"
    }
   ],
   "source": [
    "numCustomersTypes = 3\n",
    "numSubsystems = 10\n",
    "numObjectives = 11\n",
    "\n",
    "# Create a list of supplier names\n",
    "names = ['CustomerType' + str(i) for i in range(1, numCustomersTypes + 1)]\n",
    "\n",
    "qty = np.random.randint(low=25, high=1000, size=numCustomersTypes)\n",
    "meanDemand = np.random.randint(low=15, high=30, size=numCustomersTypes)\n",
    "stdDevDemand = np.random.randint(low=1, high=5, size=numCustomersTypes)\n",
    "priceFocus = np.random.random(size=numCustomersTypes)\n",
    "\n",
    "partworthWts = [np.array2string(np.random.random(numSubsystems), separator=',') for _ in range(numCustomersTypes)]\n",
    "perfWts = [np.array2string(np.random.random(numObjectives), separator=',') for _ in range(numCustomersTypes)]\n",
    "\n",
    "# Create the DataFrame\n",
    "df = DataFrame({\n",
    "    'Name': names,\n",
    "    'Quantity': qty,\n",
    "    'Mean Demand': meanDemand,\n",
    "    'Std Dev Demand': stdDevDemand,\n",
    "    'PriceFocus': priceFocus,\n",
    "    'PartworthUtilityWeights': partworthWts,\n",
    "    'PerformanceUtilityWeights': perfWts\n",
    "})\n",
    "df.to_csv('../resources/customers-{}.csv'.format(numCustomersTypes), index=False)\n",
    "customers: DataFrame = read_csv('../resources/customers-{}.csv'.format(numCustomersTypes))\n",
    "customers"
   ]
  },
  {
   "cell_type": "markdown",
   "metadata": {},
   "source": [
    "Print dictionary of customers and their weights."
   ]
  },
  {
   "cell_type": "code",
   "execution_count": 7,
   "metadata": {},
   "outputs": [
    {
     "data": {
      "text/plain": [
       "{'CustomerType1': array([0.07353441, 0.23812319, 0.88198825, 0.18071148, 0.1822069 ,\n",
       "        0.86919866, 0.12726251, 0.86094461, 0.06614307, 0.12788772,\n",
       "        0.65358829]),\n",
       " 'CustomerType2': array([0.06854985, 0.53773759, 0.93934427, 0.94031569, 0.3447028 ,\n",
       "        0.36092742, 0.62696254, 0.68824787, 0.34874709, 0.25989053,\n",
       "        0.19709851]),\n",
       " 'CustomerType3': array([0.98918637, 0.95977688, 0.30505229, 0.96212633, 0.09427434,\n",
       "        0.6756195 , 0.52721584, 0.61422457, 0.71667116, 0.61611324,\n",
       "        0.86961674])}"
      ]
     },
     "execution_count": 7,
     "metadata": {},
     "output_type": "execute_result"
    }
   ],
   "source": [
    "name_weights_dict = customers.set_index('Name')['PerformanceUtilityWeights'].to_dict()\n",
    "cWts = {c : np.fromstring(name_weights_dict[c].strip('[]'), sep=',') for c in name_weights_dict}\n",
    "cWts"
   ]
  },
  {
   "cell_type": "code",
   "execution_count": 8,
   "metadata": {},
   "outputs": [
    {
     "data": {
      "text/plain": [
       "{'CustomerType1': 785, 'CustomerType2': 127, 'CustomerType3': 966}"
      ]
     },
     "execution_count": 8,
     "metadata": {},
     "output_type": "execute_result"
    }
   ],
   "source": [
    "cQty = dict(zip(customers['Name'], customers['Quantity'])) # customer quantities\n",
    "cQty"
   ]
  },
  {
   "cell_type": "code",
   "execution_count": null,
   "metadata": {},
   "outputs": [],
   "source": []
  }
 ],
 "metadata": {
  "kernelspec": {
   "display_name": "sae-dsc",
   "language": "python",
   "name": "python3"
  },
  "language_info": {
   "codemirror_mode": {
    "name": "ipython",
    "version": 3
   },
   "file_extension": ".py",
   "mimetype": "text/x-python",
   "name": "python",
   "nbconvert_exporter": "python",
   "pygments_lexer": "ipython3",
   "version": "3.9.1"
  }
 },
 "nbformat": 4,
 "nbformat_minor": 2
}
