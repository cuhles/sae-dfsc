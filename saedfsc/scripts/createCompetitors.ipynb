{
 "cells": [
  {
   "cell_type": "code",
   "execution_count": 5,
   "metadata": {},
   "outputs": [],
   "source": [
    "import os\n",
    "from pandas import read_csv, read_excel, DataFrame\n",
    "from sae import COTSCar\n",
    "import gurobipy as gp\n",
    "from gurobipy import GRB\n",
    "import numpy as np\n",
    "\n",
    "import sys\n",
    "sys.path.append('../../')\n",
    "import saedfsc"
   ]
  },
  {
   "cell_type": "code",
   "execution_count": 6,
   "metadata": {},
   "outputs": [
    {
     "data": {
      "text/html": [
       "<div>\n",
       "<style scoped>\n",
       "    .dataframe tbody tr th:only-of-type {\n",
       "        vertical-align: middle;\n",
       "    }\n",
       "\n",
       "    .dataframe tbody tr th {\n",
       "        vertical-align: top;\n",
       "    }\n",
       "\n",
       "    .dataframe thead th {\n",
       "        text-align: right;\n",
       "    }\n",
       "</style>\n",
       "<table border=\"1\" class=\"dataframe\">\n",
       "  <thead>\n",
       "    <tr style=\"text-align: right;\">\n",
       "      <th></th>\n",
       "      <th>Name</th>\n",
       "      <th>Design</th>\n",
       "      <th>SalesPrice</th>\n",
       "      <th>ProductCost</th>\n",
       "    </tr>\n",
       "  </thead>\n",
       "  <tbody>\n",
       "    <tr>\n",
       "      <th>0</th>\n",
       "      <td>Competitor Car 0</td>\n",
       "      <td>[3, 7, 3, 8, 8, 2, 3, 19, 7, 4, 26, 41, 0, 2, ...</td>\n",
       "      <td>$41,816.01</td>\n",
       "      <td>$38,014.56</td>\n",
       "    </tr>\n",
       "    <tr>\n",
       "      <th>1</th>\n",
       "      <td>Competitor Car 1</td>\n",
       "      <td>[7, 9, 2, 7, 2, 1, 5, 8, 19, 4, 17, 139, 3, 4,...</td>\n",
       "      <td>$265,966.03</td>\n",
       "      <td>$241,787.30</td>\n",
       "    </tr>\n",
       "    <tr>\n",
       "      <th>2</th>\n",
       "      <td>Competitor Car 2</td>\n",
       "      <td>[10, 5, 12, 4, 12, 2, 4, 9, 27, 2, 23, 54, 4, ...</td>\n",
       "      <td>$25,747.43</td>\n",
       "      <td>$23,406.75</td>\n",
       "    </tr>\n",
       "  </tbody>\n",
       "</table>\n",
       "</div>"
      ],
      "text/plain": [
       "               Name                                             Design  \\\n",
       "0  Competitor Car 0  [3, 7, 3, 8, 8, 2, 3, 19, 7, 4, 26, 41, 0, 2, ...   \n",
       "1  Competitor Car 1  [7, 9, 2, 7, 2, 1, 5, 8, 19, 4, 17, 139, 3, 4,...   \n",
       "2  Competitor Car 2  [10, 5, 12, 4, 12, 2, 4, 9, 27, 2, 23, 54, 4, ...   \n",
       "\n",
       "    SalesPrice  ProductCost  \n",
       "0   $41,816.01   $38,014.56  \n",
       "1  $265,966.03  $241,787.30  \n",
       "2   $25,747.43   $23,406.75  "
      ]
     },
     "execution_count": 6,
     "metadata": {},
     "output_type": "execute_result"
    }
   ],
   "source": [
    "profitMargin = 0.1\n",
    "competitors = []\n",
    "numCompetitors = 3\n",
    "for i in range(numCompetitors):\n",
    "    competitorCar = COTSCar()\n",
    "    competitorCar.price = (1+profitMargin)*competitorCar.cost()\n",
    "    competitorCar.name = \"Competitor Car \" + str(i)\n",
    "    competitors.append(competitorCar)\n",
    "\n",
    "names = [car.name for car in competitors]\n",
    "designs = [car.vector for car in competitors]\n",
    "salesPrices = [car.price for car in competitors]\n",
    "costs = [car.cost() for car in competitors]\n",
    "competitorsDF = DataFrame({\n",
    "    'Name': names,\n",
    "    'Design': designs,\n",
    "    'SalesPrice': salesPrices,\n",
    "    'ProductCost': costs\n",
    "})\n",
    "filename = '../resources/competitors-{}.csv'.format(numCompetitors)\n",
    "competitorsDF.to_csv(filename, index=False)\n",
    "competitorsDF: DataFrame = read_csv(filename)\n",
    "competitorsDF['SalesPrice'] = competitorsDF['SalesPrice'].map('${:,.2f}'.format)\n",
    "competitorsDF['ProductCost'] = competitorsDF['ProductCost'].map('${:,.2f}'.format)\n",
    "competitorsDF"
   ]
  }
 ],
 "metadata": {
  "kernelspec": {
   "display_name": "sae-dsc",
   "language": "python",
   "name": "python3"
  },
  "language_info": {
   "codemirror_mode": {
    "name": "ipython",
    "version": 3
   },
   "file_extension": ".py",
   "mimetype": "text/x-python",
   "name": "python",
   "nbconvert_exporter": "python",
   "pygments_lexer": "ipython3",
   "version": "3.9.1"
  }
 },
 "nbformat": 4,
 "nbformat_minor": 2
}
